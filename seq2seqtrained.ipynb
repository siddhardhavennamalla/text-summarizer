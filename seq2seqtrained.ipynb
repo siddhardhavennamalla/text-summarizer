{
  "cells": [
    {
      "cell_type": "markdown",
      "metadata": {
        "id": "view-in-github"
      },
      "source": [
        "<a href=\"https://colab.research.google.com/github/Shruti-Raj-Vansh-Singh/Text-summarization-/blob/main/text_summarizer.ipynb\" target=\"_parent\"><img src=\"https://colab.research.google.com/assets/colab-badge.svg\" alt=\"Open In Colab\"/></a>"
      ]
    },
    {
      "cell_type": "code",
      "execution_count": null,
      "metadata": {
        "id": "ug4gJSda71wA"
      },
      "outputs": [],
      "source": [
        "import numpy as np\n",
        "import pandas as pd\n",
        "import re\n",
        "from bs4 import BeautifulSoup\n",
        "from keras.preprocessing.text import Tokenizer\n",
        "from keras.preprocessing.sequence import pad_sequences\n",
        "from nltk.corpus import stopwords\n",
        "from tensorflow.keras.layers import Input, LSTM, Embedding, Dense, Concatenate, TimeDistributed,Bidirectional\n",
        "from tensorflow.keras.models import Model\n",
        "from tensorflow.keras.callbacks import EarlyStopping\n",
        "import warnings\n",
        "pd.set_option(\"display.max_colwidth\", 200)\n",
        "warnings.filterwarnings(\"ignore\")"
      ]
    },
    {
      "cell_type": "markdown",
      "metadata": {
        "id": "4Eotkc3-8InU"
      },
      "source": [
        "# Loading the dataset"
      ]
    },
    {
      "cell_type": "markdown",
      "metadata": {
        "id": "RVY6CHAj8Ik7"
      },
      "source": [
        "The dataset is called amazon review dataset, that contains 50K+ reviews and summaries of the reviews along with other features like rating, contact information, etc."
      ]
    },
    {
      "cell_type": "code",
      "execution_count": null,
      "metadata": {
        "colab": {
          "base_uri": "https://localhost:8080/",
          "height": 675
        },
        "id": "vRsQ-TQr8PU0",
        "outputId": "c05df504-07b6-467b-a146-63c3c78a4686"
      },
      "outputs": [
        {
          "data": {
            "text/html": [
              "\n",
              "  <div id=\"df-f1d01709-bcbb-4344-8dff-e25d554bbc21\" class=\"colab-df-container\">\n",
              "    <div>\n",
              "<style scoped>\n",
              "    .dataframe tbody tr th:only-of-type {\n",
              "        vertical-align: middle;\n",
              "    }\n",
              "\n",
              "    .dataframe tbody tr th {\n",
              "        vertical-align: top;\n",
              "    }\n",
              "\n",
              "    .dataframe thead th {\n",
              "        text-align: right;\n",
              "    }\n",
              "</style>\n",
              "<table border=\"1\" class=\"dataframe\">\n",
              "  <thead>\n",
              "    <tr style=\"text-align: right;\">\n",
              "      <th></th>\n",
              "      <th>Id</th>\n",
              "      <th>ProductId</th>\n",
              "      <th>UserId</th>\n",
              "      <th>ProfileName</th>\n",
              "      <th>HelpfulnessNumerator</th>\n",
              "      <th>HelpfulnessDenominator</th>\n",
              "      <th>Score</th>\n",
              "      <th>Time</th>\n",
              "      <th>Summary</th>\n",
              "      <th>Text</th>\n",
              "    </tr>\n",
              "  </thead>\n",
              "  <tbody>\n",
              "    <tr>\n",
              "      <th>0</th>\n",
              "      <td>1</td>\n",
              "      <td>B001E4KFG0</td>\n",
              "      <td>A3SGXH7AUHU8GW</td>\n",
              "      <td>delmartian</td>\n",
              "      <td>1</td>\n",
              "      <td>1</td>\n",
              "      <td>5</td>\n",
              "      <td>1303862400</td>\n",
              "      <td>Good Quality Dog Food</td>\n",
              "      <td>I have bought several of the Vitality canned dog food products and have found them all to be of good quality. The product looks more like a stew than a processed meat and it smells better. My Labr...</td>\n",
              "    </tr>\n",
              "    <tr>\n",
              "      <th>1</th>\n",
              "      <td>2</td>\n",
              "      <td>B00813GRG4</td>\n",
              "      <td>A1D87F6ZCVE5NK</td>\n",
              "      <td>dll pa</td>\n",
              "      <td>0</td>\n",
              "      <td>0</td>\n",
              "      <td>1</td>\n",
              "      <td>1346976000</td>\n",
              "      <td>Not as Advertised</td>\n",
              "      <td>Product arrived labeled as Jumbo Salted Peanuts...the peanuts were actually small sized unsalted. Not sure if this was an error or if the vendor intended to represent the product as \"Jumbo\".</td>\n",
              "    </tr>\n",
              "    <tr>\n",
              "      <th>2</th>\n",
              "      <td>3</td>\n",
              "      <td>B000LQOCH0</td>\n",
              "      <td>ABXLMWJIXXAIN</td>\n",
              "      <td>Natalia Corres \"Natalia Corres\"</td>\n",
              "      <td>1</td>\n",
              "      <td>1</td>\n",
              "      <td>4</td>\n",
              "      <td>1219017600</td>\n",
              "      <td>\"Delight\" says it all</td>\n",
              "      <td>This is a confection that has been around a few centuries.  It is a light, pillowy citrus gelatin with nuts - in this case Filberts. And it is cut into tiny squares and then liberally coated with ...</td>\n",
              "    </tr>\n",
              "    <tr>\n",
              "      <th>3</th>\n",
              "      <td>4</td>\n",
              "      <td>B000UA0QIQ</td>\n",
              "      <td>A395BORC6FGVXV</td>\n",
              "      <td>Karl</td>\n",
              "      <td>3</td>\n",
              "      <td>3</td>\n",
              "      <td>2</td>\n",
              "      <td>1307923200</td>\n",
              "      <td>Cough Medicine</td>\n",
              "      <td>If you are looking for the secret ingredient in Robitussin I believe I have found it.  I got this in addition to the Root Beer Extract I ordered (which was good) and made some cherry soda.  The fl...</td>\n",
              "    </tr>\n",
              "    <tr>\n",
              "      <th>4</th>\n",
              "      <td>5</td>\n",
              "      <td>B006K2ZZ7K</td>\n",
              "      <td>A1UQRSCLF8GW1T</td>\n",
              "      <td>Michael D. Bigham \"M. Wassir\"</td>\n",
              "      <td>0</td>\n",
              "      <td>0</td>\n",
              "      <td>5</td>\n",
              "      <td>1350777600</td>\n",
              "      <td>Great taffy</td>\n",
              "      <td>Great taffy at a great price.  There was a wide assortment of yummy taffy.  Delivery was very quick.  If your a taffy lover, this is a deal.</td>\n",
              "    </tr>\n",
              "  </tbody>\n",
              "</table>\n",
              "</div>\n",
              "    <div class=\"colab-df-buttons\">\n",
              "\n",
              "  <div class=\"colab-df-container\">\n",
              "    <button class=\"colab-df-convert\" onclick=\"convertToInteractive('df-f1d01709-bcbb-4344-8dff-e25d554bbc21')\"\n",
              "            title=\"Convert this dataframe to an interactive table.\"\n",
              "            style=\"display:none;\">\n",
              "\n",
              "  <svg xmlns=\"http://www.w3.org/2000/svg\" height=\"24px\" viewBox=\"0 -960 960 960\">\n",
              "    <path d=\"M120-120v-720h720v720H120Zm60-500h600v-160H180v160Zm220 220h160v-160H400v160Zm0 220h160v-160H400v160ZM180-400h160v-160H180v160Zm440 0h160v-160H620v160ZM180-180h160v-160H180v160Zm440 0h160v-160H620v160Z\"/>\n",
              "  </svg>\n",
              "    </button>\n",
              "\n",
              "  <style>\n",
              "    .colab-df-container {\n",
              "      display:flex;\n",
              "      gap: 12px;\n",
              "    }\n",
              "\n",
              "    .colab-df-convert {\n",
              "      background-color: #E8F0FE;\n",
              "      border: none;\n",
              "      border-radius: 50%;\n",
              "      cursor: pointer;\n",
              "      display: none;\n",
              "      fill: #1967D2;\n",
              "      height: 32px;\n",
              "      padding: 0 0 0 0;\n",
              "      width: 32px;\n",
              "    }\n",
              "\n",
              "    .colab-df-convert:hover {\n",
              "      background-color: #E2EBFA;\n",
              "      box-shadow: 0px 1px 2px rgba(60, 64, 67, 0.3), 0px 1px 3px 1px rgba(60, 64, 67, 0.15);\n",
              "      fill: #174EA6;\n",
              "    }\n",
              "\n",
              "    .colab-df-buttons div {\n",
              "      margin-bottom: 4px;\n",
              "    }\n",
              "\n",
              "    [theme=dark] .colab-df-convert {\n",
              "      background-color: #3B4455;\n",
              "      fill: #D2E3FC;\n",
              "    }\n",
              "\n",
              "    [theme=dark] .colab-df-convert:hover {\n",
              "      background-color: #434B5C;\n",
              "      box-shadow: 0px 1px 3px 1px rgba(0, 0, 0, 0.15);\n",
              "      filter: drop-shadow(0px 1px 2px rgba(0, 0, 0, 0.3));\n",
              "      fill: #FFFFFF;\n",
              "    }\n",
              "  </style>\n",
              "\n",
              "    <script>\n",
              "      const buttonEl =\n",
              "        document.querySelector('#df-f1d01709-bcbb-4344-8dff-e25d554bbc21 button.colab-df-convert');\n",
              "      buttonEl.style.display =\n",
              "        google.colab.kernel.accessAllowed ? 'block' : 'none';\n",
              "\n",
              "      async function convertToInteractive(key) {\n",
              "        const element = document.querySelector('#df-f1d01709-bcbb-4344-8dff-e25d554bbc21');\n",
              "        const dataTable =\n",
              "          await google.colab.kernel.invokeFunction('convertToInteractive',\n",
              "                                                    [key], {});\n",
              "        if (!dataTable) return;\n",
              "\n",
              "        const docLinkHtml = 'Like what you see? Visit the ' +\n",
              "          '<a target=\"_blank\" href=https://colab.research.google.com/notebooks/data_table.ipynb>data table notebook</a>'\n",
              "          + ' to learn more about interactive tables.';\n",
              "        element.innerHTML = '';\n",
              "        dataTable['output_type'] = 'display_data';\n",
              "        await google.colab.output.renderOutput(dataTable, element);\n",
              "        const docLink = document.createElement('div');\n",
              "        docLink.innerHTML = docLinkHtml;\n",
              "        element.appendChild(docLink);\n",
              "      }\n",
              "    </script>\n",
              "  </div>\n",
              "\n",
              "\n",
              "<div id=\"df-351cf81f-4514-417f-934f-453de3b8717b\">\n",
              "  <button class=\"colab-df-quickchart\" onclick=\"quickchart('df-351cf81f-4514-417f-934f-453de3b8717b')\"\n",
              "            title=\"Suggest charts\"\n",
              "            style=\"display:none;\">\n",
              "\n",
              "<svg xmlns=\"http://www.w3.org/2000/svg\" height=\"24px\"viewBox=\"0 0 24 24\"\n",
              "     width=\"24px\">\n",
              "    <g>\n",
              "        <path d=\"M19 3H5c-1.1 0-2 .9-2 2v14c0 1.1.9 2 2 2h14c1.1 0 2-.9 2-2V5c0-1.1-.9-2-2-2zM9 17H7v-7h2v7zm4 0h-2V7h2v10zm4 0h-2v-4h2v4z\"/>\n",
              "    </g>\n",
              "</svg>\n",
              "  </button>\n",
              "\n",
              "<style>\n",
              "  .colab-df-quickchart {\n",
              "      --bg-color: #E8F0FE;\n",
              "      --fill-color: #1967D2;\n",
              "      --hover-bg-color: #E2EBFA;\n",
              "      --hover-fill-color: #174EA6;\n",
              "      --disabled-fill-color: #AAA;\n",
              "      --disabled-bg-color: #DDD;\n",
              "  }\n",
              "\n",
              "  [theme=dark] .colab-df-quickchart {\n",
              "      --bg-color: #3B4455;\n",
              "      --fill-color: #D2E3FC;\n",
              "      --hover-bg-color: #434B5C;\n",
              "      --hover-fill-color: #FFFFFF;\n",
              "      --disabled-bg-color: #3B4455;\n",
              "      --disabled-fill-color: #666;\n",
              "  }\n",
              "\n",
              "  .colab-df-quickchart {\n",
              "    background-color: var(--bg-color);\n",
              "    border: none;\n",
              "    border-radius: 50%;\n",
              "    cursor: pointer;\n",
              "    display: none;\n",
              "    fill: var(--fill-color);\n",
              "    height: 32px;\n",
              "    padding: 0;\n",
              "    width: 32px;\n",
              "  }\n",
              "\n",
              "  .colab-df-quickchart:hover {\n",
              "    background-color: var(--hover-bg-color);\n",
              "    box-shadow: 0 1px 2px rgba(60, 64, 67, 0.3), 0 1px 3px 1px rgba(60, 64, 67, 0.15);\n",
              "    fill: var(--button-hover-fill-color);\n",
              "  }\n",
              "\n",
              "  .colab-df-quickchart-complete:disabled,\n",
              "  .colab-df-quickchart-complete:disabled:hover {\n",
              "    background-color: var(--disabled-bg-color);\n",
              "    fill: var(--disabled-fill-color);\n",
              "    box-shadow: none;\n",
              "  }\n",
              "\n",
              "  .colab-df-spinner {\n",
              "    border: 2px solid var(--fill-color);\n",
              "    border-color: transparent;\n",
              "    border-bottom-color: var(--fill-color);\n",
              "    animation:\n",
              "      spin 1s steps(1) infinite;\n",
              "  }\n",
              "\n",
              "  @keyframes spin {\n",
              "    0% {\n",
              "      border-color: transparent;\n",
              "      border-bottom-color: var(--fill-color);\n",
              "      border-left-color: var(--fill-color);\n",
              "    }\n",
              "    20% {\n",
              "      border-color: transparent;\n",
              "      border-left-color: var(--fill-color);\n",
              "      border-top-color: var(--fill-color);\n",
              "    }\n",
              "    30% {\n",
              "      border-color: transparent;\n",
              "      border-left-color: var(--fill-color);\n",
              "      border-top-color: var(--fill-color);\n",
              "      border-right-color: var(--fill-color);\n",
              "    }\n",
              "    40% {\n",
              "      border-color: transparent;\n",
              "      border-right-color: var(--fill-color);\n",
              "      border-top-color: var(--fill-color);\n",
              "    }\n",
              "    60% {\n",
              "      border-color: transparent;\n",
              "      border-right-color: var(--fill-color);\n",
              "    }\n",
              "    80% {\n",
              "      border-color: transparent;\n",
              "      border-right-color: var(--fill-color);\n",
              "      border-bottom-color: var(--fill-color);\n",
              "    }\n",
              "    90% {\n",
              "      border-color: transparent;\n",
              "      border-bottom-color: var(--fill-color);\n",
              "    }\n",
              "  }\n",
              "</style>\n",
              "\n",
              "  <script>\n",
              "    async function quickchart(key) {\n",
              "      const quickchartButtonEl =\n",
              "        document.querySelector('#' + key + ' button');\n",
              "      quickchartButtonEl.disabled = true;  // To prevent multiple clicks.\n",
              "      quickchartButtonEl.classList.add('colab-df-spinner');\n",
              "      try {\n",
              "        const charts = await google.colab.kernel.invokeFunction(\n",
              "            'suggestCharts', [key], {});\n",
              "      } catch (error) {\n",
              "        console.error('Error during call to suggestCharts:', error);\n",
              "      }\n",
              "      quickchartButtonEl.classList.remove('colab-df-spinner');\n",
              "      quickchartButtonEl.classList.add('colab-df-quickchart-complete');\n",
              "    }\n",
              "    (() => {\n",
              "      let quickchartButtonEl =\n",
              "        document.querySelector('#df-351cf81f-4514-417f-934f-453de3b8717b button');\n",
              "      quickchartButtonEl.style.display =\n",
              "        google.colab.kernel.accessAllowed ? 'block' : 'none';\n",
              "    })();\n",
              "  </script>\n",
              "</div>\n",
              "\n",
              "    </div>\n",
              "  </div>\n"
            ],
            "text/plain": [
              "   Id   ProductId          UserId                      ProfileName  \\\n",
              "0   1  B001E4KFG0  A3SGXH7AUHU8GW                       delmartian   \n",
              "1   2  B00813GRG4  A1D87F6ZCVE5NK                           dll pa   \n",
              "2   3  B000LQOCH0   ABXLMWJIXXAIN  Natalia Corres \"Natalia Corres\"   \n",
              "3   4  B000UA0QIQ  A395BORC6FGVXV                             Karl   \n",
              "4   5  B006K2ZZ7K  A1UQRSCLF8GW1T    Michael D. Bigham \"M. Wassir\"   \n",
              "\n",
              "   HelpfulnessNumerator  HelpfulnessDenominator  Score        Time  \\\n",
              "0                     1                       1      5  1303862400   \n",
              "1                     0                       0      1  1346976000   \n",
              "2                     1                       1      4  1219017600   \n",
              "3                     3                       3      2  1307923200   \n",
              "4                     0                       0      5  1350777600   \n",
              "\n",
              "                 Summary  \\\n",
              "0  Good Quality Dog Food   \n",
              "1      Not as Advertised   \n",
              "2  \"Delight\" says it all   \n",
              "3         Cough Medicine   \n",
              "4            Great taffy   \n",
              "\n",
              "                                                                                                                                                                                                      Text  \n",
              "0  I have bought several of the Vitality canned dog food products and have found them all to be of good quality. The product looks more like a stew than a processed meat and it smells better. My Labr...  \n",
              "1           Product arrived labeled as Jumbo Salted Peanuts...the peanuts were actually small sized unsalted. Not sure if this was an error or if the vendor intended to represent the product as \"Jumbo\".  \n",
              "2  This is a confection that has been around a few centuries.  It is a light, pillowy citrus gelatin with nuts - in this case Filberts. And it is cut into tiny squares and then liberally coated with ...  \n",
              "3  If you are looking for the secret ingredient in Robitussin I believe I have found it.  I got this in addition to the Root Beer Extract I ordered (which was good) and made some cherry soda.  The fl...  \n",
              "4                                                             Great taffy at a great price.  There was a wide assortment of yummy taffy.  Delivery was very quick.  If your a taffy lover, this is a deal.  "
            ]
          },
          "execution_count": 2,
          "metadata": {},
          "output_type": "execute_result"
        }
      ],
      "source": [
        "data=pd.read_csv(\"reviews.csv\")\n",
        "data.head()"
      ]
    },
    {
      "cell_type": "markdown",
      "metadata": {
        "id": "q0_C54LP8Tn8"
      },
      "source": [
        "## Drop Duplicates and NA values"
      ]
    },
    {
      "cell_type": "code",
      "execution_count": null,
      "metadata": {
        "id": "L1cdwTnJ8R27"
      },
      "outputs": [],
      "source": [
        "data.drop_duplicates(subset=['Text'],inplace=True)#dropping duplicates\n",
        "data.dropna(axis=0,inplace=True)#dropping na"
      ]
    },
    {
      "cell_type": "markdown",
      "metadata": {
        "id": "QaLNvNdC8Ys2"
      },
      "source": [
        "## Information about dataset\n",
        "\n",
        "Let us look at datatypes and shape of the dataset"
      ]
    },
    {
      "cell_type": "code",
      "execution_count": null,
      "metadata": {
        "colab": {
          "base_uri": "https://localhost:8080/"
        },
        "id": "leBKHAU28QZV",
        "outputId": "6867c2c6-0285-4a07-a202-5315cdf3df54"
      },
      "outputs": [
        {
          "name": "stdout",
          "output_type": "stream",
          "text": [
            "<class 'pandas.core.frame.DataFrame'>\n",
            "Int64Index: 997 entries, 0 to 999\n",
            "Data columns (total 10 columns):\n",
            " #   Column                  Non-Null Count  Dtype \n",
            "---  ------                  --------------  ----- \n",
            " 0   Id                      997 non-null    int64 \n",
            " 1   ProductId               997 non-null    object\n",
            " 2   UserId                  997 non-null    object\n",
            " 3   ProfileName             997 non-null    object\n",
            " 4   HelpfulnessNumerator    997 non-null    int64 \n",
            " 5   HelpfulnessDenominator  997 non-null    int64 \n",
            " 6   Score                   997 non-null    int64 \n",
            " 7   Time                    997 non-null    int64 \n",
            " 8   Summary                 997 non-null    object\n",
            " 9   Text                    997 non-null    object\n",
            "dtypes: int64(5), object(5)\n",
            "memory usage: 85.7+ KB\n"
          ]
        }
      ],
      "source": [
        "data.info()"
      ]
    },
    {
      "cell_type": "markdown",
      "metadata": {
        "id": "Dd-eDnYK8csR"
      },
      "source": [
        "# Preprocessing and cleaning the data"
      ]
    },
    {
      "cell_type": "markdown",
      "metadata": {
        "id": "v7RfMv3Z8gBA"
      },
      "source": [
        "The first step of pereprocessing is removing unnecesary shortforms. We use a dictionary called contraction_mapping for the purpose of expanding these contractions."
      ]
    },
    {
      "cell_type": "code",
      "execution_count": null,
      "metadata": {
        "id": "uRGwfx1q8al8"
      },
      "outputs": [],
      "source": [
        "contraction_mapping = {\"ain't\": \"is not\", \"aren't\": \"are not\",\"can't\": \"cannot\", \"'cause\": \"because\", \"could've\": \"could have\", \"couldn't\": \"could not\",\n",
        "                           \"didn't\": \"did not\",  \"doesn't\": \"does not\", \"don't\": \"do not\", \"hadn't\": \"had not\", \"hasn't\": \"has not\", \"haven't\": \"have not\",\n",
        "                           \"he'd\": \"he would\",\"he'll\": \"he will\", \"he's\": \"he is\", \"how'd\": \"how did\", \"how'd'y\": \"how do you\", \"how'll\": \"how will\", \"how's\": \"how is\",\n",
        "                           \"I'd\": \"I would\", \"I'd've\": \"I would have\", \"I'll\": \"I will\", \"I'll've\": \"I will have\",\"I'm\": \"I am\", \"I've\": \"I have\", \"i'd\": \"i would\",\n",
        "                           \"i'd've\": \"i would have\", \"i'll\": \"i will\",  \"i'll've\": \"i will have\",\"i'm\": \"i am\", \"i've\": \"i have\", \"isn't\": \"is not\", \"it'd\": \"it would\",\n",
        "                           \"it'd've\": \"it would have\", \"it'll\": \"it will\", \"it'll've\": \"it will have\",\"it's\": \"it is\", \"let's\": \"let us\", \"ma'am\": \"madam\",\n",
        "                           \"mayn't\": \"may not\", \"might've\": \"might have\",\"mightn't\": \"might not\",\"mightn't've\": \"might not have\", \"must've\": \"must have\",\n",
        "                           \"mustn't\": \"must not\", \"mustn't've\": \"must not have\", \"needn't\": \"need not\", \"needn't've\": \"need not have\",\"o'clock\": \"of the clock\",\n",
        "                           \"oughtn't\": \"ought not\", \"oughtn't've\": \"ought not have\", \"shan't\": \"shall not\", \"sha'n't\": \"shall not\", \"shan't've\": \"shall not have\",\n",
        "                           \"she'd\": \"she would\", \"she'd've\": \"she would have\", \"she'll\": \"she will\", \"she'll've\": \"she will have\", \"she's\": \"she is\",\n",
        "                           \"should've\": \"should have\", \"shouldn't\": \"should not\", \"shouldn't've\": \"should not have\", \"so've\": \"so have\",\"so's\": \"so as\",\n",
        "                           \"this's\": \"this is\",\"that'd\": \"that would\", \"that'd've\": \"that would have\", \"that's\": \"that is\", \"there'd\": \"there would\",\n",
        "                           \"there'd've\": \"there would have\", \"there's\": \"there is\", \"here's\": \"here is\",\"they'd\": \"they would\", \"they'd've\": \"they would have\",\n",
        "                           \"they'll\": \"they will\", \"they'll've\": \"they will have\", \"they're\": \"they are\", \"they've\": \"they have\", \"to've\": \"to have\",\n",
        "                           \"wasn't\": \"was not\", \"we'd\": \"we would\", \"we'd've\": \"we would have\", \"we'll\": \"we will\", \"we'll've\": \"we will have\", \"we're\": \"we are\",\n",
        "                           \"we've\": \"we have\", \"weren't\": \"were not\", \"what'll\": \"what will\", \"what'll've\": \"what will have\", \"what're\": \"what are\",\n",
        "                           \"what's\": \"what is\", \"what've\": \"what have\", \"when's\": \"when is\", \"when've\": \"when have\", \"where'd\": \"where did\", \"where's\": \"where is\",\n",
        "                           \"where've\": \"where have\", \"who'll\": \"who will\", \"who'll've\": \"who will have\", \"who's\": \"who is\", \"who've\": \"who have\",\n",
        "                           \"why's\": \"why is\", \"why've\": \"why have\", \"will've\": \"will have\", \"won't\": \"will not\", \"won't've\": \"will not have\",\n",
        "                           \"would've\": \"would have\", \"wouldn't\": \"would not\", \"wouldn't've\": \"would not have\", \"y'all\": \"you all\",\n",
        "                           \"y'all'd\": \"you all would\",\"y'all'd've\": \"you all would have\",\"y'all're\": \"you all are\",\"y'all've\": \"you all have\",\n",
        "                           \"you'd\": \"you would\", \"you'd've\": \"you would have\", \"you'll\": \"you will\", \"you'll've\": \"you will have\",\n",
        "                           \"you're\": \"you are\", \"you've\": \"you have\"}"
      ]
    },
    {
      "cell_type": "code",
      "execution_count": null,
      "metadata": {
        "colab": {
          "base_uri": "https://localhost:8080/"
        },
        "id": "Kz5mTIn_8hMj",
        "outputId": "efa34902-6967-4976-cf6e-a83bef652dc7"
      },
      "outputs": [
        {
          "data": {
            "text/plain": [
              "Index(['Id', 'ProductId', 'UserId', 'ProfileName', 'HelpfulnessNumerator',\n",
              "       'HelpfulnessDenominator', 'Score', 'Time', 'Summary', 'Text'],\n",
              "      dtype='object')"
            ]
          },
          "execution_count": 6,
          "metadata": {},
          "output_type": "execute_result"
        }
      ],
      "source": [
        "data.columns"
      ]
    },
    {
      "cell_type": "code",
      "execution_count": null,
      "metadata": {
        "colab": {
          "base_uri": "https://localhost:8080/",
          "height": 276
        },
        "id": "4aJ1KBOw8irV",
        "outputId": "046a3457-b9ca-4f7c-e833-64755c3e5251"
      },
      "outputs": [
        {
          "data": {
            "text/html": [
              "\n",
              "  <div id=\"df-15e60cad-9752-429a-be62-e937a62f8780\" class=\"colab-df-container\">\n",
              "    <div>\n",
              "<style scoped>\n",
              "    .dataframe tbody tr th:only-of-type {\n",
              "        vertical-align: middle;\n",
              "    }\n",
              "\n",
              "    .dataframe tbody tr th {\n",
              "        vertical-align: top;\n",
              "    }\n",
              "\n",
              "    .dataframe thead th {\n",
              "        text-align: right;\n",
              "    }\n",
              "</style>\n",
              "<table border=\"1\" class=\"dataframe\">\n",
              "  <thead>\n",
              "    <tr style=\"text-align: right;\">\n",
              "      <th></th>\n",
              "      <th>Text</th>\n",
              "      <th>Summary</th>\n",
              "    </tr>\n",
              "  </thead>\n",
              "  <tbody>\n",
              "    <tr>\n",
              "      <th>0</th>\n",
              "      <td>I have bought several of the Vitality canned dog food products and have found them all to be of good quality. The product looks more like a stew than a processed meat and it smells better. My Labr...</td>\n",
              "      <td>Good Quality Dog Food</td>\n",
              "    </tr>\n",
              "    <tr>\n",
              "      <th>1</th>\n",
              "      <td>Product arrived labeled as Jumbo Salted Peanuts...the peanuts were actually small sized unsalted. Not sure if this was an error or if the vendor intended to represent the product as \"Jumbo\".</td>\n",
              "      <td>Not as Advertised</td>\n",
              "    </tr>\n",
              "    <tr>\n",
              "      <th>2</th>\n",
              "      <td>This is a confection that has been around a few centuries.  It is a light, pillowy citrus gelatin with nuts - in this case Filberts. And it is cut into tiny squares and then liberally coated with ...</td>\n",
              "      <td>\"Delight\" says it all</td>\n",
              "    </tr>\n",
              "    <tr>\n",
              "      <th>3</th>\n",
              "      <td>If you are looking for the secret ingredient in Robitussin I believe I have found it.  I got this in addition to the Root Beer Extract I ordered (which was good) and made some cherry soda.  The fl...</td>\n",
              "      <td>Cough Medicine</td>\n",
              "    </tr>\n",
              "    <tr>\n",
              "      <th>4</th>\n",
              "      <td>Great taffy at a great price.  There was a wide assortment of yummy taffy.  Delivery was very quick.  If your a taffy lover, this is a deal.</td>\n",
              "      <td>Great taffy</td>\n",
              "    </tr>\n",
              "  </tbody>\n",
              "</table>\n",
              "</div>\n",
              "    <div class=\"colab-df-buttons\">\n",
              "\n",
              "  <div class=\"colab-df-container\">\n",
              "    <button class=\"colab-df-convert\" onclick=\"convertToInteractive('df-15e60cad-9752-429a-be62-e937a62f8780')\"\n",
              "            title=\"Convert this dataframe to an interactive table.\"\n",
              "            style=\"display:none;\">\n",
              "\n",
              "  <svg xmlns=\"http://www.w3.org/2000/svg\" height=\"24px\" viewBox=\"0 -960 960 960\">\n",
              "    <path d=\"M120-120v-720h720v720H120Zm60-500h600v-160H180v160Zm220 220h160v-160H400v160Zm0 220h160v-160H400v160ZM180-400h160v-160H180v160Zm440 0h160v-160H620v160ZM180-180h160v-160H180v160Zm440 0h160v-160H620v160Z\"/>\n",
              "  </svg>\n",
              "    </button>\n",
              "\n",
              "  <style>\n",
              "    .colab-df-container {\n",
              "      display:flex;\n",
              "      gap: 12px;\n",
              "    }\n",
              "\n",
              "    .colab-df-convert {\n",
              "      background-color: #E8F0FE;\n",
              "      border: none;\n",
              "      border-radius: 50%;\n",
              "      cursor: pointer;\n",
              "      display: none;\n",
              "      fill: #1967D2;\n",
              "      height: 32px;\n",
              "      padding: 0 0 0 0;\n",
              "      width: 32px;\n",
              "    }\n",
              "\n",
              "    .colab-df-convert:hover {\n",
              "      background-color: #E2EBFA;\n",
              "      box-shadow: 0px 1px 2px rgba(60, 64, 67, 0.3), 0px 1px 3px 1px rgba(60, 64, 67, 0.15);\n",
              "      fill: #174EA6;\n",
              "    }\n",
              "\n",
              "    .colab-df-buttons div {\n",
              "      margin-bottom: 4px;\n",
              "    }\n",
              "\n",
              "    [theme=dark] .colab-df-convert {\n",
              "      background-color: #3B4455;\n",
              "      fill: #D2E3FC;\n",
              "    }\n",
              "\n",
              "    [theme=dark] .colab-df-convert:hover {\n",
              "      background-color: #434B5C;\n",
              "      box-shadow: 0px 1px 3px 1px rgba(0, 0, 0, 0.15);\n",
              "      filter: drop-shadow(0px 1px 2px rgba(0, 0, 0, 0.3));\n",
              "      fill: #FFFFFF;\n",
              "    }\n",
              "  </style>\n",
              "\n",
              "    <script>\n",
              "      const buttonEl =\n",
              "        document.querySelector('#df-15e60cad-9752-429a-be62-e937a62f8780 button.colab-df-convert');\n",
              "      buttonEl.style.display =\n",
              "        google.colab.kernel.accessAllowed ? 'block' : 'none';\n",
              "\n",
              "      async function convertToInteractive(key) {\n",
              "        const element = document.querySelector('#df-15e60cad-9752-429a-be62-e937a62f8780');\n",
              "        const dataTable =\n",
              "          await google.colab.kernel.invokeFunction('convertToInteractive',\n",
              "                                                    [key], {});\n",
              "        if (!dataTable) return;\n",
              "\n",
              "        const docLinkHtml = 'Like what you see? Visit the ' +\n",
              "          '<a target=\"_blank\" href=https://colab.research.google.com/notebooks/data_table.ipynb>data table notebook</a>'\n",
              "          + ' to learn more about interactive tables.';\n",
              "        element.innerHTML = '';\n",
              "        dataTable['output_type'] = 'display_data';\n",
              "        await google.colab.output.renderOutput(dataTable, element);\n",
              "        const docLink = document.createElement('div');\n",
              "        docLink.innerHTML = docLinkHtml;\n",
              "        element.appendChild(docLink);\n",
              "      }\n",
              "    </script>\n",
              "  </div>\n",
              "\n",
              "\n",
              "<div id=\"df-0c4c0ef0-dea1-48c9-afb8-d0aecfa262ee\">\n",
              "  <button class=\"colab-df-quickchart\" onclick=\"quickchart('df-0c4c0ef0-dea1-48c9-afb8-d0aecfa262ee')\"\n",
              "            title=\"Suggest charts\"\n",
              "            style=\"display:none;\">\n",
              "\n",
              "<svg xmlns=\"http://www.w3.org/2000/svg\" height=\"24px\"viewBox=\"0 0 24 24\"\n",
              "     width=\"24px\">\n",
              "    <g>\n",
              "        <path d=\"M19 3H5c-1.1 0-2 .9-2 2v14c0 1.1.9 2 2 2h14c1.1 0 2-.9 2-2V5c0-1.1-.9-2-2-2zM9 17H7v-7h2v7zm4 0h-2V7h2v10zm4 0h-2v-4h2v4z\"/>\n",
              "    </g>\n",
              "</svg>\n",
              "  </button>\n",
              "\n",
              "<style>\n",
              "  .colab-df-quickchart {\n",
              "      --bg-color: #E8F0FE;\n",
              "      --fill-color: #1967D2;\n",
              "      --hover-bg-color: #E2EBFA;\n",
              "      --hover-fill-color: #174EA6;\n",
              "      --disabled-fill-color: #AAA;\n",
              "      --disabled-bg-color: #DDD;\n",
              "  }\n",
              "\n",
              "  [theme=dark] .colab-df-quickchart {\n",
              "      --bg-color: #3B4455;\n",
              "      --fill-color: #D2E3FC;\n",
              "      --hover-bg-color: #434B5C;\n",
              "      --hover-fill-color: #FFFFFF;\n",
              "      --disabled-bg-color: #3B4455;\n",
              "      --disabled-fill-color: #666;\n",
              "  }\n",
              "\n",
              "  .colab-df-quickchart {\n",
              "    background-color: var(--bg-color);\n",
              "    border: none;\n",
              "    border-radius: 50%;\n",
              "    cursor: pointer;\n",
              "    display: none;\n",
              "    fill: var(--fill-color);\n",
              "    height: 32px;\n",
              "    padding: 0;\n",
              "    width: 32px;\n",
              "  }\n",
              "\n",
              "  .colab-df-quickchart:hover {\n",
              "    background-color: var(--hover-bg-color);\n",
              "    box-shadow: 0 1px 2px rgba(60, 64, 67, 0.3), 0 1px 3px 1px rgba(60, 64, 67, 0.15);\n",
              "    fill: var(--button-hover-fill-color);\n",
              "  }\n",
              "\n",
              "  .colab-df-quickchart-complete:disabled,\n",
              "  .colab-df-quickchart-complete:disabled:hover {\n",
              "    background-color: var(--disabled-bg-color);\n",
              "    fill: var(--disabled-fill-color);\n",
              "    box-shadow: none;\n",
              "  }\n",
              "\n",
              "  .colab-df-spinner {\n",
              "    border: 2px solid var(--fill-color);\n",
              "    border-color: transparent;\n",
              "    border-bottom-color: var(--fill-color);\n",
              "    animation:\n",
              "      spin 1s steps(1) infinite;\n",
              "  }\n",
              "\n",
              "  @keyframes spin {\n",
              "    0% {\n",
              "      border-color: transparent;\n",
              "      border-bottom-color: var(--fill-color);\n",
              "      border-left-color: var(--fill-color);\n",
              "    }\n",
              "    20% {\n",
              "      border-color: transparent;\n",
              "      border-left-color: var(--fill-color);\n",
              "      border-top-color: var(--fill-color);\n",
              "    }\n",
              "    30% {\n",
              "      border-color: transparent;\n",
              "      border-left-color: var(--fill-color);\n",
              "      border-top-color: var(--fill-color);\n",
              "      border-right-color: var(--fill-color);\n",
              "    }\n",
              "    40% {\n",
              "      border-color: transparent;\n",
              "      border-right-color: var(--fill-color);\n",
              "      border-top-color: var(--fill-color);\n",
              "    }\n",
              "    60% {\n",
              "      border-color: transparent;\n",
              "      border-right-color: var(--fill-color);\n",
              "    }\n",
              "    80% {\n",
              "      border-color: transparent;\n",
              "      border-right-color: var(--fill-color);\n",
              "      border-bottom-color: var(--fill-color);\n",
              "    }\n",
              "    90% {\n",
              "      border-color: transparent;\n",
              "      border-bottom-color: var(--fill-color);\n",
              "    }\n",
              "  }\n",
              "</style>\n",
              "\n",
              "  <script>\n",
              "    async function quickchart(key) {\n",
              "      const quickchartButtonEl =\n",
              "        document.querySelector('#' + key + ' button');\n",
              "      quickchartButtonEl.disabled = true;  // To prevent multiple clicks.\n",
              "      quickchartButtonEl.classList.add('colab-df-spinner');\n",
              "      try {\n",
              "        const charts = await google.colab.kernel.invokeFunction(\n",
              "            'suggestCharts', [key], {});\n",
              "      } catch (error) {\n",
              "        console.error('Error during call to suggestCharts:', error);\n",
              "      }\n",
              "      quickchartButtonEl.classList.remove('colab-df-spinner');\n",
              "      quickchartButtonEl.classList.add('colab-df-quickchart-complete');\n",
              "    }\n",
              "    (() => {\n",
              "      let quickchartButtonEl =\n",
              "        document.querySelector('#df-0c4c0ef0-dea1-48c9-afb8-d0aecfa262ee button');\n",
              "      quickchartButtonEl.style.display =\n",
              "        google.colab.kernel.accessAllowed ? 'block' : 'none';\n",
              "    })();\n",
              "  </script>\n",
              "</div>\n",
              "\n",
              "    </div>\n",
              "  </div>\n"
            ],
            "text/plain": [
              "                                                                                                                                                                                                      Text  \\\n",
              "0  I have bought several of the Vitality canned dog food products and have found them all to be of good quality. The product looks more like a stew than a processed meat and it smells better. My Labr...   \n",
              "1           Product arrived labeled as Jumbo Salted Peanuts...the peanuts were actually small sized unsalted. Not sure if this was an error or if the vendor intended to represent the product as \"Jumbo\".   \n",
              "2  This is a confection that has been around a few centuries.  It is a light, pillowy citrus gelatin with nuts - in this case Filberts. And it is cut into tiny squares and then liberally coated with ...   \n",
              "3  If you are looking for the secret ingredient in Robitussin I believe I have found it.  I got this in addition to the Root Beer Extract I ordered (which was good) and made some cherry soda.  The fl...   \n",
              "4                                                             Great taffy at a great price.  There was a wide assortment of yummy taffy.  Delivery was very quick.  If your a taffy lover, this is a deal.   \n",
              "\n",
              "                 Summary  \n",
              "0  Good Quality Dog Food  \n",
              "1      Not as Advertised  \n",
              "2  \"Delight\" says it all  \n",
              "3         Cough Medicine  \n",
              "4            Great taffy  "
            ]
          },
          "execution_count": 7,
          "metadata": {},
          "output_type": "execute_result"
        }
      ],
      "source": [
        "data=data[['Text','Summary']]\n",
        "data.head()"
      ]
    },
    {
      "cell_type": "markdown",
      "metadata": {
        "id": "01YBBko28myi"
      },
      "source": [
        "The following data cleaniNG will be performed so as to make the data consistent.\n",
        "1. Converting everything to lower case\n",
        "2. Removing any HTML tags(using BeautifulSoup)\n",
        "3. Contraction Mapping with the help of the dictinory\n",
        "4. Removing any text inide paranthesis.\n",
        "5. Remove punctuation marks and speial symbols.\n",
        "6. Removing stopwords with the help of nltk.\n"
      ]
    },
    {
      "cell_type": "code",
      "execution_count": null,
      "metadata": {
        "colab": {
          "base_uri": "https://localhost:8080/"
        },
        "id": "TruY1jlX8k0b",
        "outputId": "f8193be1-66c8-4a71-aeb1-8520d8e531fb"
      },
      "outputs": [
        {
          "name": "stderr",
          "output_type": "stream",
          "text": [
            "[nltk_data] Downloading package stopwords to /root/nltk_data...\n",
            "[nltk_data]   Unzipping corpora/stopwords.zip.\n"
          ]
        }
      ],
      "source": [
        "import nltk\n",
        "nltk.download('stopwords')\n",
        "\n",
        "stop_words = set(stopwords.words('english'))\n",
        "\n",
        "def text_cleaner(text,num):\n",
        "    newString = text.lower()\n",
        "    newString = BeautifulSoup(newString, \"lxml\").text\n",
        "    newString = re.sub(r'\\([^)]*\\)', '', newString)\n",
        "    newString = re.sub('\"','', newString)\n",
        "    newString = ' '.join([contraction_mapping[t] if t in contraction_mapping else t for t in newString.split(\" \")])\n",
        "    newString = re.sub(r\"'s\\b\",\"\",newString)\n",
        "    newString = re.sub(\"[^a-zA-Z]\", \" \", newString)\n",
        "    newString = re.sub('[m]{2,}', 'mm', newString)\n",
        "    if(num==0):\n",
        "        tokens = [w for w in newString.split() if not w in stop_words]\n",
        "    else:\n",
        "        tokens=newString.split()\n",
        "    long_words=[]\n",
        "    for i in tokens:\n",
        "        if len(i)>1:                                                 #removing short word\n",
        "            long_words.append(i)\n",
        "    return (\" \".join(long_words)).strip()"
      ]
    },
    {
      "cell_type": "code",
      "execution_count": null,
      "metadata": {
        "id": "ADajLEbK8n_1"
      },
      "outputs": [],
      "source": [
        "#call the function\n",
        "cleaned_text = []\n",
        "for t in data['Text']:\n",
        "    cleaned_text.append(text_cleaner(t,0))"
      ]
    },
    {
      "cell_type": "code",
      "execution_count": null,
      "metadata": {
        "colab": {
          "base_uri": "https://localhost:8080/"
        },
        "id": "xSpJcnkK8phu",
        "outputId": "554c5f2b-1b6c-4e13-d355-0b8d78d44c2c"
      },
      "outputs": [
        {
          "data": {
            "text/plain": [
              "['bought several vitality canned dog food products found good quality product looks like stew processed meat smells better labrador finicky appreciates product better',\n",
              " 'product arrived labeled jumbo salted peanuts peanuts actually small sized unsalted sure error vendor intended represent product jumbo',\n",
              " 'confection around centuries light pillowy citrus gelatin nuts case filberts cut tiny squares liberally coated powdered sugar tiny mouthful heaven chewy flavorful highly recommend yummy treat familiar story lewis lion witch wardrobe treat seduces edmund selling brother sisters witch',\n",
              " 'looking secret ingredient robitussin believe found got addition root beer extract ordered made cherry soda flavor medicinal',\n",
              " 'great taffy great price wide assortment yummy taffy delivery quick taffy lover deal']"
            ]
          },
          "execution_count": 10,
          "metadata": {},
          "output_type": "execute_result"
        }
      ],
      "source": [
        "cleaned_text[:5]"
      ]
    },
    {
      "cell_type": "code",
      "execution_count": null,
      "metadata": {
        "id": "8yPFqKtQ8qx1"
      },
      "outputs": [],
      "source": [
        "#call the function\n",
        "cleaned_summary = []\n",
        "for t in data['Summary']:\n",
        "    cleaned_summary.append(text_cleaner(t,1))"
      ]
    },
    {
      "cell_type": "code",
      "execution_count": null,
      "metadata": {
        "colab": {
          "base_uri": "https://localhost:8080/"
        },
        "id": "9MQcdixy8r07",
        "outputId": "a1067612-2bea-435b-d499-d713565e0a07"
      },
      "outputs": [
        {
          "data": {
            "text/plain": [
              "['good quality dog food',\n",
              " 'not as advertised',\n",
              " 'delight says it all',\n",
              " 'cough medicine',\n",
              " 'great taffy',\n",
              " 'nice taffy',\n",
              " 'great just as good as the expensive brands',\n",
              " 'wonderful tasty taffy',\n",
              " 'yay barley',\n",
              " 'healthy dog food']"
            ]
          },
          "execution_count": 12,
          "metadata": {},
          "output_type": "execute_result"
        }
      ],
      "source": [
        "cleaned_summary[:10]"
      ]
    },
    {
      "cell_type": "code",
      "execution_count": null,
      "metadata": {
        "id": "ApAJbJ_28svg"
      },
      "outputs": [],
      "source": [
        "data['cleaned_text']=cleaned_text\n",
        "data['cleaned_summary']=cleaned_summary"
      ]
    },
    {
      "cell_type": "code",
      "execution_count": null,
      "metadata": {
        "id": "zxIwWUxn8uQM"
      },
      "outputs": [],
      "source": [
        "data.replace('', np.nan, inplace=True)\n",
        "data.dropna(axis=0,inplace=True)"
      ]
    },
    {
      "cell_type": "markdown",
      "metadata": {
        "id": "buvQkHCO8yUP"
      },
      "source": [
        "### Understanding the distribution of the sequences\n",
        "\n",
        "Here, we will analyze the length of the reviews and the summary to get an overall idea about the distribution of length of the text. This will help us fix the maximum length of the sequence:"
      ]
    },
    {
      "cell_type": "code",
      "execution_count": null,
      "metadata": {
        "colab": {
          "base_uri": "https://localhost:8080/",
          "height": 452
        },
        "id": "z9AV5GR_8vLo",
        "outputId": "2ce9f56d-b6bc-47ee-dfed-6c916a2dacec"
      },
      "outputs": [
        {
          "data": {
            "image/png": "[encoded data removed]",
            "text/plain": [
              "<Figure size 640x480 with 2 Axes>"
            ]
          },
          "metadata": {},
          "output_type": "display_data"
        }
      ],
      "source": [
        "import matplotlib.pyplot as plt\n",
        "%matplotlib inline\n",
        "text_word_count = []\n",
        "summary_word_count = []\n",
        "\n",
        "# populate the lists with sentence lengths\n",
        "for i in data['cleaned_text']:\n",
        "      text_word_count.append(len(i.split()))\n",
        "\n",
        "for i in data['cleaned_summary']:\n",
        "      summary_word_count.append(len(i.split()))\n",
        "\n",
        "length_df = pd.DataFrame({'text':text_word_count, 'summary':summary_word_count})\n",
        "\n",
        "length_df.hist(bins = 30)\n",
        "plt.show()"
      ]
    },
    {
      "cell_type": "markdown",
      "metadata": {
        "id": "rraAlq4883yh"
      },
      "source": [
        "We can fix the maximum length of the summary to 8 since that seems to be the majority summary length."
      ]
    },
    {
      "cell_type": "code",
      "execution_count": null,
      "metadata": {
        "colab": {
          "base_uri": "https://localhost:8080/"
        },
        "id": "kCiZbUBZ8108",
        "outputId": "e92822f5-eb8b-4512-a1a2-b06ad7768472"
      },
      "outputs": [
        {
          "name": "stdout",
          "output_type": "stream",
          "text": [
            "0.9798994974874372\n"
          ]
        }
      ],
      "source": [
        "cnt=0\n",
        "for i in data['cleaned_summary']:\n",
        "    if(len(i.split())<=10):\n",
        "        cnt=cnt+1\n",
        "print(cnt/len(data['cleaned_summary']))"
      ]
    },
    {
      "cell_type": "code",
      "execution_count": null,
      "metadata": {
        "id": "RuG48DFN847c"
      },
      "outputs": [],
      "source": [
        "max_text_len=40\n",
        "max_summary_len=10"
      ]
    },
    {
      "cell_type": "markdown",
      "metadata": {
        "id": "B-JLXPjP9DHk"
      },
      "source": [
        "Let us select the reviews and summaries whose length falls below or equal to **max_text_len** and **max_summary_len**"
      ]
    },
    {
      "cell_type": "code",
      "execution_count": null,
      "metadata": {
        "id": "RsBNsxuk86BP"
      },
      "outputs": [],
      "source": [
        "cleaned_text =np.array(data['cleaned_text'])\n",
        "cleaned_summary=np.array(data['cleaned_summary'])\n",
        "\n",
        "short_text=[]\n",
        "short_summary=[]\n",
        "\n",
        "for i in range(len(cleaned_text)):\n",
        "    if(len(cleaned_summary[i].split())<=max_summary_len and len(cleaned_text[i].split())<=max_text_len):\n",
        "        short_text.append(cleaned_text[i])\n",
        "        short_summary.append(cleaned_summary[i])\n",
        "\n",
        "df=pd.DataFrame({'text':short_text,'summary':short_summary})"
      ]
    },
    {
      "cell_type": "markdown",
      "metadata": {
        "id": "VFyfL3G99F1F"
      },
      "source": [
        "Add the **START** and **END** special tokens at the beginning and end of the summary. Here, I have chosen **sostok** and **eostok** as START and END tokens"
      ]
    },
    {
      "cell_type": "code",
      "execution_count": null,
      "metadata": {
        "id": "6fBCEk4s9EZs"
      },
      "outputs": [],
      "source": [
        "df['summary'] = df['summary'].apply(lambda x : 'sostok '+ x + ' eostok')"
      ]
    },
    {
      "cell_type": "code",
      "execution_count": null,
      "metadata": {
        "colab": {
          "base_uri": "https://localhost:8080/"
        },
        "id": "RSY10nOP9Hd2",
        "outputId": "27acbccb-6aa0-4f59-ff8c-1f18d907b475"
      },
      "outputs": [
        {
          "data": {
            "text/plain": [
              "array(['bought several vitality canned dog food products found good quality product looks like stew processed meat smells better labrador finicky appreciates product better',\n",
              "       'product arrived labeled jumbo salted peanuts peanuts actually small sized unsalted sure error vendor intended represent product jumbo',\n",
              "       'confection around centuries light pillowy citrus gelatin nuts case filberts cut tiny squares liberally coated powdered sugar tiny mouthful heaven chewy flavorful highly recommend yummy treat familiar story lewis lion witch wardrobe treat seduces edmund selling brother sisters witch',\n",
              "       'looking secret ingredient robitussin believe found got addition root beer extract ordered made cherry soda flavor medicinal',\n",
              "       'great taffy great price wide assortment yummy taffy delivery quick taffy lover deal',\n",
              "       'got wild hair taffy ordered five pound bag taffy enjoyable many flavors watermelon root beer melon peppermint grape etc complaint bit much red black licorice flavored pieces kids husband lasted two weeks would recommend brand taffy delightful treat',\n",
              "       'saltwater taffy great flavors soft chewy candy individually wrapped well none candies stuck together happen expensive version fralinger would highly recommend candy served beach themed party everyone loved',\n",
              "       'taffy good soft chewy flavors amazing would definitely recommend buying satisfying',\n",
              "       'right mostly sprouting cats eat grass love rotate around wheatgrass rye',\n",
              "       'healthy dog food good digestion also good small puppies dog eats required amount every feeding',\n",
              "       'cats happily eating felidae platinum two years got new bag shape food different tried new food first put bowls bowls sit full kitties touch food noticed similar reviews related formula changes past unfortunately need find new food cats eat',\n",
              "       'good flavor came securely packed fresh delicious love twizzlers',\n",
              "       'strawberry twizzlers guilty pleasure yummy six pounds around son',\n",
              "       'daughter loves twizzlers shipment six pounds really hit spot exactly would expect six packages strawberry twizzlers',\n",
              "       'love eating good watching tv looking movies sweet like transfer zip lock baggie stay fresh take time eating',\n",
              "       'satisfied twizzler purchase shared others enjoyed definitely ordering',\n",
              "       'candy delivered fast purchased reasonable price home bound unable get store perfect',\n",
              "       'husband twizzlers addict bought many times amazon government employees living overseas cannot get country assigned always fresh tasty packed well arrive timely manner',\n",
              "       'bought husband currently overseas loves apparently staff likes also generous amounts twizzlers ounce bag well worth price twizzlers strawberry ounce bags',\n",
              "       'remember buying candy kid quality dropped years still superb product disappointed',\n",
              "       'love candy weight watchers cut back still craving',\n",
              "       'lived us yrs miss twizzlers go back visit someone visits always stock say yum sell mexico faithful buyer often able buy right',\n",
              "       'product received advertised twizzlers strawberry ounce bags',\n",
              "       'candy red flavor plan chewy would never buy',\n",
              "       'glad amazon carried batteries hard time finding elsewhere unique size need garage door opener great deal price',\n",
              "       'got mum diabetic needs watch sugar intake father simply chooses limit unnecessary sugar intake one sweet tooth loved toffees would never guess sugar free great eat pretty much guilt free impressed ordered take office eat instead snacking sugary sweets excellent',\n",
              "       'offer great price great taste thanks amazon selling product staral',\n",
              "       'mccann instant irish oatmeal variety pack regular apples cinnamon maple brown sugar count boxes fan mccann steel cut oats thought would give instant variety try found hardy meal sweet great folks like need food palatable easily digestible fiber make bloat',\n",
              "       'us celiac disease product lifesaver could better getting almost half price grocery health food store love mccann instant oatmeal flavors thanks abby',\n",
              "       'else need know oatmeal instant expensive kroger store brand oatmeal maybe little tastier better texture something still oatmeal mm convenient',\n",
              "       'visiting friend nate morning coffee came storage room suggested try use stash sometimes nate dose give chance say ended trying apple cinn found tastefull made water powdered milk goes good coffee slice toast ready take world day least jerry reith',\n",
              "       'ordered wife reccomended daughter almost every morning likes flavors happy happy mccann instant irish oatmeal variety pack regular apples cinnamon maple brown sugar count boxes',\n",
              "       'mccann oatmeal every morning ordering amazon able save almost per box great product tastes great healthy',\n",
              "       'mccann oatmeal good quality choice favorite apples cinnamon find none overly sugary good hot breakfast minutes excellent',\n",
              "       'really like mccann steel cut oats find cook often tastes much better grocery store brands convenient anything keeps eating oatmeal regularly good thing',\n",
              "       'seems little wholesome supermarket brands somewhat mushy quite much flavor either pass muster kids probably buy',\n",
              "       'good oatmeal like apple cinnamon best though would follow directions package since always comes soupy taste could since like oatmeal really thick add milk top',\n",
              "       'flavors good however see differce oaker oats brand mushy',\n",
              "       'stuff buy big box stores nothing healthy carbs sugars save money get something least taste',\n",
              "       'oatmeal good mushy soft like quaker oats way go',\n",
              "       'got free package bottle bloody mary mix bought seller advertising worked lol tried shared buddies loved im buy noticed reviews yet well hot burn mouth forever hot nice temp perfect us',\n",
              "       'used spicy foods south texas spicy doubt much habanero used could take notch two',\n",
              "       'roast home stove top popcorn popper beans seem well suited method first second cracks distinct roasted beans medium slightly dark great results every time aroma strong persistent taste smooth velvety yet lively',\n",
              "       'roast large cast iron pan grill smell wonderful roasted beans taste delicious importantly coffee smooth bitter aftertaste numerous occasions send roasted beans home friends like much',\n",
              "       'deal awesome arrived halloween indicated enough satisfy trick treaters love quality product much less expensive local store candy',\n",
              "       'chocolate say great variety everything family loves family six goes fast perfect variety kit kat reeses take five',\n",
              "       'great product nice combination chocolates perfect size bags plenty shipped promptly kids neighborhood liked candies',\n",
              "       'halloween sent bag daughters class share chocolate fresh enjoyed many',\n",
              "       'watch prices assortment good get gold box purchase price less target',\n",
              "       'bag candy online pretty expensive cheaper order compete grocery stores good combination favorite candy',\n",
              "       'arrived days stale could eat bags',\n",
              "       'product serves well source electrolytes long run bike ride tried flavors really like grapefruit flavor taste actually like slight carbonation use hammer products really like whole product line',\n",
              "       'stuff really works preventing cramping middle latter stages rides pop water bottle set flavor fine goes easy',\n",
              "       'impulsive like ok get wrong quality babies good complaints retrospect price little ridiculous',\n",
              "       'sooooo deliscious bad ate em fast gained pds fault',\n",
              "       'albanese gummi bears rings good tasty high quality bears even little faces local candy store type gummi stuff lb twin packs pound bags screaming deal far concerned probably pounds deep friggin things consumed',\n",
              "       'ordered two two raspberry latice tarts directly fantasicakes website dinner party hosting arrived fresh intact good size froze half later use pastry lover best ever tasted pastry soft jam really good taste great gone time guests really impressed',\n",
              "       'okay would go way buy',\n",
              "       'tea flavor whole brunch artifial flavors returnable wasted bucks',\n",
              "       'looked like perfect snack trail mix unfortunately arrived solid mass melted chocolate left pantry days opened room temperature still gooey fridge breaking hunks ever since taste good chocolate grainy melting solidifying order online see store would pick',\n",
              "       'taste really good purchasing different brand similar taste texture agree reviewer regarding ordering summer insulating packaging ice packs melt warm weather like chocolate food items order cold weather buy enough last',\n",
              "       'taste great berries melted may order winter order cold weather enjoy flavor',\n",
              "       'know cannot make tea good granted south know never enjoyed tea sweet without sweet tastes crisp',\n",
              "       'peppermint stick delicious fun eat dad got one christmas remembered similar one little girl love',\n",
              "       'great gift ages purchased giant canes recipients loved much kept would eat',\n",
              "       'dogs like flavors tried dog food reason itching increased tried lamb rice itchy dogs giving limited ingredient dog food try help duck sweet potato cut itching significantly tried lamb rice started itching like natural balance quality ingredients',\n",
              "       'awesome dog food however given boston severe reactions food ingredients itching increased violent jumping bed night scratching soon changed different formula scratching stopped glad natural balance choices guess try find best pet',\n",
              "       'three dogs love food bought specifically one dogs food allergies works great hot spots tummy problems love ships right door free shipping',\n",
              "       'dog ton allergies environmental food prescription dog food tested see allergies got test back learned allergic something prescription brand finally found dog food done well still environmental triggers happy finally eat something know cause pain',\n",
              "       'shepherd collie mix ibs vet recommended limited ingredient food really helped symptoms likes always buy amazon cheaper free shipping',\n",
              "       'great food love idea one food ages breeds real convenience well really good product dogs eat less almost gas poop regular perfect consistency else mom ask',\n",
              "       'standard poodle pomeranian wonderful food switched different food couple times end going right back natural balance',\n",
              "       'great dog food dog severs allergies brand one feed',\n",
              "       'food great ages dogs year old puppy soft hardly ever get sick food good especially amazon prime shipping',\n",
              "       'food get pet store delivered door price slightly less',\n",
              "       'pleased natural balance dog food dogs issues dog foods past someone recommend natural balance grain free since possible allergic grains since switching issues also helpful different kibble size larger smaller sized dogs',\n",
              "       'pup experienced allergies forms hotspots itching dog foods cheap buy anywhere food crazy preservatives cause health problems pets food works wonders reducing allergies dog loves food message ramsey frankenstein approved',\n",
              "       'english bulldog skin allergies summer got age vet recommended wean food previous owner gave onto new kind second one tried working ever since dogs need limited diet sensitive additives proteins commonly found commercial dog food',\n",
              "       'fed golden retriever hated would eat gave terrible diarrhea buying also super expensive',\n",
              "       'mouth says love thee let count ways like apple products must item draw back shipping cost heavy',\n",
              "       'arrived slightly thawed parents would accept however company helpful issued full refund',\n",
              "       'crust tarts perfect husband loves crazy sour tart taste eat crust hubby takes filling kids think great maybe',\n",
              "       'absolutely scrumptuous husband love however another customer put expensive ship cost shipping tartlets',\n",
              "       'nice alternative apple pie love fact slicing dicing easy prepare also loved fact make fresh whenever needed',\n",
              "       'like creme brulee loved easy sprinkle sugar came broil look amazing taste great guess thought really went way really took minutes ordering',\n",
              "       'expecting terms company reputation excellent home delivery products',\n",
              "       'first bought pickled asparagus amish market love first bite hence saw discount rack local safeway cleaned even better ones amish market fantastic jars bonus clove garlic bottom going order six pack household one wont go waste',\n",
              "       'love asparagus recently never pickled asparagus oh goodness friend introduced exact brand could believe great stuff tasted loved much bought six pack got jars left gonna need',\n",
              "       'diappointed flavor texture mix usually like low carb things tried diappointed specific one',\n",
              "       'drinking tea long time used purchase doctor office available elsewhere glad buy amazon com drink tea throughout day like folks drink coffee wonderful taste',\n",
              "       'one best teas ever tasted clean bright fresh great delivery quality try',\n",
              "       'love love green tea hard find area places internet charge big price usually get many boxes merchant definitely order seller thanks depend green tea fix everyday',\n",
              "       'love tea helps curb eating day mom given friends try',\n",
              "       'italian lived italy years used buy cookies everyday breakfast italian espresso could find anywhere bay area great',\n",
              "       'done lot research find best food cat excellent food also according holistic veterinarian put probiotics kibble last step important best thing cat loved immediately stop mixing old food would eat holistic select',\n",
              "       'year old male cat chronic urinary tract infections feed dry food combination wet food uri ease combination seems keeps uti control switch another type dry food uti gets worse cats seem enjoy food well expensive seems best solution',\n",
              "       'holistic vet recommended along brands tried cats prefer best part coats soft clean eyes clear waste far less odorous cats eat mcdonalds junk found stores definite plus health benefits obvious highly recommend holistic select',\n",
              "       'one cats allergic fish beef formula one eat much better ingredients prescription diets available vet kitties active soft shiny fur neither fat dry food reduces tartar buildup teeth also',\n",
              "       'cats thrive extremely well dry cat food definitely much less hair ball throw ups fur great fit weight vendor ships extremely fast one top amazon suppliers book',\n",
              "       'fan hot spicy maruchan ramen long time enjoy spice love ramen love product bad way expensive amazon per walmart',\n",
              "       'eating ramen noodles since little kid never found better flavor hot spicy chicken hot chilihead like sure good',\n",
              "       'love spicy ramen whatever reasons thing burns stomach badly burning sensation go away like hours sure healthy buy walmart way cheaper amazon',\n",
              "       'always fan ramen quick easy meal finding amazon decent price delivered door case amazing situation anyone find',\n",
              "       'must bit wuss soup tastes imagine fire might taste typically like spicy food good flavor find case soup flavor killed burn',\n",
              "       'really loved spicy flavor found liking broth noodles usually opposite used heat might bother like hot hot foods might enough',\n",
              "       'got sale roughly cents per cup half price local grocery stores plus rarely stock spicy flavors things great snack office time constantly crunched sometimes cannot escape real meal one favorite flavors instant lunch back buy every time goes sale',\n",
              "       'bought allot different flavors happens one favorites getting soon',\n",
              "       'love flavor ramen eat flavors anymore taste bland comparison convenience delivered home price amazon bad still cheaper run pick case grocery store',\n",
              "       'best investment ever made ginger unbelievable fibrous like real ginger spicy kick perfect sugar calms worth lbs getting soon use topper ginger cupcakes cookies',\n",
              "       'delicious cannot get australian ginger live compares favorably australian ginger purchased cities enjoy without traveling',\n",
              "       'keep trying brands cheaper brands stupid ginger soooo worth money tender moist never let',\n",
              "       'bought office give people something sweet snack bite size easier people grab couple pieces rather entire licorice stick complaint one bags broke open shipping',\n",
              "       'twizzlers brand licorice much better well known brand get package free good deal black cherry good taste strawberry taste delicate barely',\n",
              "       'love tasty infact think addicted buying packs bags reasonable going target getting bag savings bag use subscribe save several product love subscribe save',\n",
              "       'looking less messy version licorice children sure try soft easy chew get hands sticky gross car summer beach etc love flavos sometimes mix chocolate nice snack great item great price highly recommend',\n",
              "       'might mistaken appears pieces bag reduced size doubtlessly done make appear buyer got better deal many pieces problem pieces certain size order enough flavor eating experience use pieces match old piece size',\n",
              "       'fan newman pineapple salsa quite looking comparable salsa one best tasting salsas ever daughters love like super chunky salsa berry mango nice smooth texture small mango pieces salsa sweet sweet enough although mild nice little kick price steal',\n",
              "       'one best salsas found long time stay away variety pack two come worth money',\n",
              "       'remind dog treats made using pumpkin cinnamon kind bland favorite back nature product finace really loves three stars come',\n",
              "       'best cornmeal made regular cornbread hot water cornbread meal outstanding also fried oysters meal gave great texture flovor',\n",
              "       'fabulous marinade love use chicken either baked oven grill enough flavor flair even used dinner parties receive rave reviews guests definitely worth price super cheap super easy love',\n",
              "       'works chicken fish beef pork fast easy makes taste excellent plus buying bulk box stores',\n",
              "       'got brother jorge cruise diet decided try one actually tastes pretty good',\n",
              "       'singles sell store box singles sure amazon selling box singles hazelnut coffee creamer favorite truly good buy',\n",
              "       'awesome yummy flavor got healthy alternative desserts normally eat glad many things jello desserts still taste good good definitentally purchasing product flavor wonderful',\n",
              "       'deal healthiest salt use box last family year problem iodized sea salt raise blood pressure regular salt',\n",
              "       'perfect size sea salt table picnic basket love shakes well clumping flows freely',\n",
              "       'never heard safcol brand tired trying typical pouches starkist chicken sea really surprised thought bit better brands less seasoning',\n",
              "       'best tasting tuna pack make opinion make great go snack really satisfying tomato',\n",
              "       'always purchased star kist tuna thought would try brand change pace taste tuna pleasant much basil spices',\n",
              "       'familiar safcol brand tuna addict gave shot tuna tastes like good quality found tomato basil flavor bit bland better something plain pack punch hoping still great option low calorie low fat meal',\n",
              "       'found much tastier plain tuna pouches excellent quality need dress put micro power minute shazam believe little heating brings flavor',\n",
              "       'seriously product tasteless come much better tasting products calories better special bar cookie snack pack season combine something else share flavor',\n",
              "       'read pomegranate molasses try made anything yet eaten little bit time wow decadent dark syrupy sour little sweet dab forget dessert really unique flavor pleasing metallic undertone yum going try making fesenjan next',\n",
              "       'used moroccan recipes syrup brilliant mixed beverage swirled topping sliced oranges soaked orange water wonderful wonderful stuff',\n",
              "       'know long sat back shelf somewhere old would cook throw half skins damaged clear sign dried beans past prime cannot even return ask refund food returnable find different brand use fifty servings beans throw away',\n",
              "       'besides smaller runts look consistency unfortunately taste nothing like banana runts even taste good yucky stuff trying return vendor',\n",
              "       'item fine banana heads like banana runts alot smaller also received item packaging great banana heads come open shipping packing envelope',\n",
              "       'purchased giveaway baby shower jungle theme worked perfect small bags candy purchased want small bags would purchase larger bag',\n",
              "       'drunk ricore since mother allowed drink caffeine love stuff milk much smoother tastier instant coffee milk french live us bring back boxes ricore every opportunity savora another hidden gem bringback check',\n",
              "       'first drink mother brought back visit home brittany france thought delicious wish bit cheaper love product',\n",
              "       'one best lemon juice tried recurring customer due high quality product season fresh lemos one supplement need citrus kitchen refreshments continue buying',\n",
              "       'lemon juice must kitchen year round powerful flavor need much zest dish add spritz water nearly every day buy product',\n",
              "       'fast delivery good product lemon juice concentrate find stores really handy around add sauces dressings etc pain squeeze fresh juice everytime need nevermind lemons hand begin',\n",
              "       'good frozen lemon juice good slightly odd flavor perhaps preservative sure wish could order frozen juice',\n",
              "       'could believe told relaxing beverage seriously drink getting ready nap bedtime plans drive perform activity recommended feel arms legs almost tingle relaxation short time eyes start get droopy another place love stuff',\n",
              "       'bought grocery outlet seattle tacoma case tweleve paying yes dollar like taste great bad either low calorie buy whacked price',\n",
              "       'great product taste great works exactly described superb natural sleep aid amazing',\n",
              "       'great stuff made really tasty banana bread good quality lowest price town',\n",
              "       'trouble finding locally delivery fast hunting flour aisle local grocery stores',\n",
              "       'scotties full hot spots used within week hot spots gone smell kinda strong bad tolerablel',\n",
              "       'bought coffee much cheaper ganocafe organic reishi mushroom well healthy antioxidants expect taste good actually days totally worth sisters take ganocafe introducing less expensive similar coffee follow product weeks',\n",
              "       'coffee finely processed flavor alright nescafe mount hagen better bought try something two probably get slight vitaminy taste overwhelming also bit pricey get',\n",
              "       'coffee great organic ingredients pesticides worry plus tastes good healing effects ganoderma',\n",
              "       'like people mentioned coffee great taste tried different instant coffees one one better ones another one favorites want try africafe pure instant coffee',\n",
              "       'tastes great gives energy without jitters love product however wish came sort resealable jar hard plastic container instead zip lock pouch zip lock ripped quit working awhile product fantastic crazy packaging',\n",
              "       'little guys tasty refreshing usually eat salads lunch terrible things breath eat lunch find sufficiently resolves problem sugar free great tasty enough almost think part lunch good bulk value buy would highly recommend mints cheers',\n",
              "       'like better regular altoids even costly would better like',\n",
              "       'little tins sugar free mine mints great deal perfict go fifty mints per tin right amount cary along safer teeth ones sugar price twelve dollars resonable also great shareing looking mint try ones youll glad',\n",
              "       'pros packaging shipping price sold year expiration date fresh like regular wintergreen powdery form real mint cons none',\n",
              "       'careful eat many one day one chemicals laxative lololol',\n",
              "       'mints really strong great taste also convenient size carry pocket purse',\n",
              "       'huge supply still working plenty spare much effective buying one grocery store every time want mint',\n",
              "       'even small containers fill little tins less half filled price charged seems rip exotic ingredient costly gold contained tiny squares cereal ploy filled factory settled transport manufacturers honest dealings',\n",
              "       'love use empty containers medicine advil purse desk suitcase also line felt keep earrings perfect little size disguise small valuables traveling love mints tiny powerful without burning mouth',\n",
              "       'received shown mother law likes walgreens quit carrying great could get amazon',\n",
              "       'tiny altoids great quick breath freshening small box great portability full compact run yet probably couple months cannot wait buy',\n",
              "       'loved wintergreen altoid smalls much come write review packaging small convenience altoids smaller well square shape blue hue even delicious taste opinion definitely prefer regular size altoids continue purchasing highly recommended',\n",
              "       'fresh scent taste easy eat one tin hours use favors everyone loved',\n",
              "       'hard find wintergreen smalls sugar free stores red smalls peppermint common flavor wintergreen refreshing absolutely delicious driving cross country someone cuts turn daughter hand say wintergreen pulls one puts hand right world',\n",
              "       'much good thing worked kibble time slowly shifting percentage felidae national junk food brand bowl natural time cats could keep mess moved',\n",
              "       'buy order case cannot even remember first time tasted anchovy stuffed olive tried several brands online brand favorite',\n",
              "       'order olives lot un like olives subtle flavors brine go great cheeses one favorite appetizer treats guests',\n",
              "       'hey description says grams roughly ounces per way approximate price gram',\n",
              "       'tried literally dozens teas since introduced russian custom preparing drinking tea ahmad imperial blend probably favorite due fact equally delicious hot iced buy three packs needed amazon go rapidly family loves friends homes try one box love',\n",
              "       'excellent tea one best ever especially great prepare samovar',\n",
              "       'herbal additives blend destroy real tea taste people like herbal taste',\n",
              "       'think tried every bloody mary mixer market one time much sugar worst corn syrup mixer natural ingredients tasty little kick enjoy',\n",
              "       'might little spicy stuff rocks use milder version best bloody caesar half mix half clamato',\n",
              "       'took one two get used pickle taste aim hooked keep bottle hand',\n",
              "       'candy described middle almost hard silky smooth filling described looks tastes like way past expiration date would never reccommend paid good chunk cash nothing',\n",
              "       'started drinking power slim tea hcg diet help curb cravings since liked well tried others hooked satisfying drink time energy gives extra pick afternoons helps keep going day matter long',\n",
              "       'cannot live without citron falksalt wonderful watermelon fish almost food requiring salt world try red juicy watermelon wonderful experience',\n",
              "       'terrible artificial lemon taste like pledge lemon furniture polish use plain flake salt fresh grated lemon zest',\n",
              "       'things huge love way crystals crunch flavor overpowering subtle lemony flavor favorite good almost everything plenty flavored salt long time buy',\n",
              "       'fresh great way get little chocolate life without million calories taste like chocolate pudding',\n",
              "       'enjoying tea years tea good mornings afternoons evenings local store went buisiness thanks amazon use bodum tea press prepare pot',\n",
              "       'hi black tea everyday done past years habit mine ahmad tea one favorite brands highly recommend like black tea think going remain favorite next years',\n",
              "       'tried despite review found exactly tea buy either russian italian groceries',\n",
              "       'ahmad tea excellent looseleaf tea eith hot making iced tea great flavor lingering aftertaste',\n",
              "       'tried random sampler packs great way get exactly brands style want received order couple days exactly ordered second order ordering item',\n",
              "       'good products fast shipping equals happy little pricey hand pick good flavors cant find anywhere else def worth price',\n",
              "       'used daily basis keep gums healty teeth clean free plack',\n",
              "       'pork chops omaha steaks tasty time exceptionally dry pork usually dry meat extreme possibly shipping frozen keeping frozen partly problem',\n",
              "       'five minutes one tentacle bitten ball inside cracked half durable enough dog toy disappointed dog',\n",
              "       'felt energized within five minutes lasted minutes paid drink could drunk cup coffee saved money',\n",
              "       'nature valley nut lovers variety pack perfect although sure peanut butter bar excellent loved roasted almond roasted pecan peanut butter definately buy seller quick shipping fresh',\n",
              "       'shipped sister follows gluten free eating plan reports versatile easier grinding almonds crispy crust chicken fish filets also uses place bread crumbs meatloaf meatballs stays moist added place wheat flour baking good product good value',\n",
              "       'healthy mixed llasa tibetan terrier adores healthy breath smell teeth good shape products great healthy product',\n",
              "       'great healthy chew wk old beagle rio loves taste sure beats arm',\n",
              "       'really enjoy product hard time finding affordable store found look sugar use thanks much',\n",
              "       'love sugar also get muscavado sugar great use place regular white sugar recommend',\n",
              "       'product exactly advertised savings least half retail price easy store individual packaging',\n",
              "       'sugar raw flavor profile much better white sugar suppose better something wish bags resealable',\n",
              "       'use raw sugar seem little smaller normal crystals still good buy',\n",
              "       'thought great buy noted scott molasses content par loved higher molasses content sugar raw unfortunately purchased recently higher molasses content twelve ounce bags guess watch next crop',\n",
              "       'really love sugar price wise much cheaper buy amazon compared anywhere else',\n",
              "       'love sugar tastes much better overly sweet tasting regular sugar used quite baking items always turn good price amazon set good makes easy use everyday stuff',\n",
              "       'great service items arrived faster expected efficient use seller highly recommend seller thank excellent service',\n",
              "       'best flavor ever addicted good far best could live need anymore say',\n",
              "       'many healthy products taste good taste good first try go downhill chips one occasion tasty served guests twice times wanted know get also nice something gluten free friends borderline diabetic would eat anyway',\n",
              "       'found crisps local walmart figured would give try yummy may never go back regular chips big chip fan anyway problem eat entire bag one sitting give crisps big thumbs',\n",
              "       'one best tasting crisps ever eaten buy special occassions know eat whole bag',\n",
              "       'paid ounce pkg lunch today bought brown rice good carb soon tasted one tasted like corn chip checked ingredients name deceptive masa corn flour listed ingredients overwhelms taste buy get sunchips less money similar taste',\n",
              "       'price product certainly raises attention compairing amazon price local stores get rotel local kroger dissapointing',\n",
              "       'howdy actual product good would rate item however one dollar local grocery twenty eight dollars per twelve pack running almost two half dollars said expensive sigh really hoping get something approaching local cost take care lee',\n",
              "       'nothing wrong product sure mix lots ingredients make edible comparison comfortable tostitos medium chunky salsa milder rotel mixed slightly larger cans diced tomatoes still way hot use salsa chips used make sort southwestern cornbread good though',\n",
              "       'bought husband said best energy shots takes one mornings works hard day good stuff',\n",
              "       'energy junkie sure works know taste greatest drink steaz energy drink think get results like products natural others',\n",
              "       'purchased sale terms energy provides works taste leaves something desired tried mixing water make drinkable',\n",
              "       'energy shot truly work terrible taste first know expect getting used always water handy chaser helps glad found something gives energy need without chemicals found beverages helped kick addiction diet coke aspartame laced caffeinated beverages yay',\n",
              "       'tried hour energy red rain nos energy shots favorite terms taste effect plus somewhat reassuring know natural ingredients used sometimes wonder really putting body brands purchase box every months past years',\n",
              "       'looking energy boost without artificial sweeteners chemicals great option taste decent nice smooth uplift without jitters',\n",
              "       'tried energy shots one one really makes feel good energized without sides effects also best taste others taste like medicine one tea fresh taste love',\n",
              "       'drive otr road truck helps keep alert sugar high crash autoship like price good seen bucks store',\n",
              "       'use product daily provides steady stream energy get jittery crash also helps practice portion control acts slight appetite suppressant',\n",
              "       'buying drinking year energy boost excellent continuous hour effect recent shipments seem improved flavor slightly well perhaps getting used drink flavor heinous fake flavors found non organic energy shots',\n",
              "       'loved mold wished could used one occasion last use make suckers daughter first birthday going way mold could salvaged would liked kept use occasions price matter much served main purpose',\n",
              "       'try vanilla tootsie rolls regular chocolate ones good best ever',\n",
              "       'tri color couscous really good full flavor fun eat love texture cook chicken broth add minced garlic chopped herbs along red pepper flakes end cooking add olive oil makes wonderful side dish highly recommend',\n",
              "       'tried find israeli couscous number upsacale grocery stores luck decided try good ole amazon com selected product good add herbs great side dish add make pasta type salad good hooked great flavor easy prepare',\n",
              "       'package came label torn cooking instructions know normally cook couscous tried cup water cup couscous brought boil let sit covered min mushy tasteless thrown rest container',\n",
              "       'would even think buying product unless know price per unit compare items online store',\n",
              "       'love coffee wish came already ground grinder use blender instead worth many flavored coffees tried seem flavored odor reach coffee one manages',\n",
              "       'hot love tasty little sweet usually scoff salsas labeled hot one lives billing',\n",
              "       'service great meant buy swiss chalet chicken sauce marinade love sauce yet try marinade',\n",
              "       'use frequently like asian dishes least week love product fast shipping usual would buy',\n",
              "       'individually wrapped pieces delicious mildly sweet sugar free aftertaste even traditional marzipan aholic enjoy',\n",
              "       'put husbands stocking christmas hit',\n",
              "       'amazed quickly arrived cute stocking stuffer ok far user appeal get pay',\n",
              "       'toy typical quality expected got taken major ride shipping',\n",
              "       'cancelled order cancelled without problem positive note',\n",
              "       'love convenience singles best creamer around taste like big bottle stick purse take work',\n",
              "       'even though international delight fans completely dissapointed product problem shipment creamer thinner international delight happy',\n",
              "       'seller nice price good reason stop ording bacause went sugar free time watch fat take would get product',\n",
              "       'purchased coffee mate singles use work along coffee tea bags great require refrigeration',\n",
              "       'received items timely manner upon receipt removed pack consume pop tart stale left awful taste mouth',\n",
              "       'found new spring pop tarts bought whim kids amazed delighted fun colorful amazingly detailed artwork pop tarts fantastic school snacks lunch boxes school treats tie ribbon bright thinking spring gift challenge finding stores way go kellogg fantastic product',\n",
              "       'yes cup right went town looking coffee invited non profit organization banquet besides delicious food top amazing delicious coffee paid extra bucks get right way worth money highly recommend',\n",
              "       'taste like stale order coffee th year annerversery reception hall stuff tasted nothing like douwe egberts hall possibly stale coffee',\n",
              "       'serveice delivery seller excellent product order bad taste iam sure old tastes throw right away coudl drink',\n",
              "       'honestly best seasoning salt land tightens dish spicy perfectly seasoned perfect hence purchase oz mamma jamma',\n",
              "       'order arrived advertised chances use awesome flavor exactly hoped may take finish entire gallon definnantly order',\n",
              "       'like lot sesame oil use salads regularly great quality flavor aroma cannot beat organic',\n",
              "       'great idea daughter love think difficult wash mean like toss water come absolutely recommend',\n",
              "       'product impossible wash actually get cleaned could get food pieces save life tried scrubbing even washed dishwasher suggests',\n",
              "       'loved product fruits food want new baby choke also used put ice baby teething worked great well food like bananas though impossible get clean',\n",
              "       'munchkin fresh food feeder okay product kind like sucking food cloth daughter interested little eventually lost interest may introduce back see reacts',\n",
              "       'product amazing know people little ones use love super easy clean use ordering impression per package fyi one per',\n",
              "       'ordered coffee themed wedding arrived fight friends smelled tasted good literally hide box wedding big hit wedding day none left put tables great tasting product lowest price seen',\n",
              "       'delicious chocolate excellent espresso bean perfect roast purpose crunchy bitter chocolate covered espresso beans pounds',\n",
              "       'product exactly advertised fresh unfortunately keep candy dish office going fast need reorder keep demand',\n",
              "       'chocolate covered espresso beans wonderful chocolate dark rich bean inside delightful blend flavors enough caffine really give zing',\n",
              "       'popchips good following weight watchers lost pounds goal popchips salty crunchy indulgence taste good',\n",
              "       'sugar sweet denied advertised melt baked either however liege waffles gaufres larger pebbles belgian pearl grains smaller think pretzel salt seed pearls',\n",
              "       'exactly looking bake chouquettes works great yum',\n",
              "       'looking missing taste exactly taste one made india loved remember days back india definitely recommend',\n",
              "       'bought strawberry extract hoping spruce strawberry wine ended less flavor would original expected indeed good strawberry flavor add sugary concoction either give strawberry flavor presto everyone licking lips interested found right addition liquid volume oz extract per gallon liquid',\n",
              "       'great stuff dependable especially million brands choose love stuff really high end desires go apollo olive oils california buy whole lot stuff buy',\n",
              "       'tried till recently weavers favorite running list types looking favorite found one yet darned smooth bite taste little pricy still worth worse price wise starbucks peets keep running list see happens love far',\n",
              "       'always strict peet coffee lover reticent switch brands weaver heart taste clean strong ethos correct even packaging zen appropriate still caffeinated heart',\n",
              "       'bitter tasting coffee even enhanced cream honey definately cup coffee oh say bitter',\n",
              "       'like eating whenever need energy boost everything searching go snack fiber plus chocolate never bad thing',\n",
              "       'favorite bars ever combo raisons dark choc wonderful filling hard find stores thankful subsrcibe save',\n",
              "       'fiance loves dark chocolate nut granola bars grocery stores around us carry anymore amazon came could happier',\n",
              "       'buying quaker oats granola bars nature valley chewy bars better tasting make great snack go chocolate peanuts raisins get better',\n",
              "       'hard get husband eat breakfast school takes two bars happy often hard find flavor local grocery stores amazon com came reasonable price came keep husband breakfast ready runs door mornings often like bar evening night snack',\n",
              "       'nantucket blend coffee one favorites suprised single box every time ordered pack fault reading closer order price',\n",
              "       'green mountain favorite brand nantucket favorite coffee green mountain smooth flavor strong weak',\n",
              "       'looking replacement timothy kona blend longer carried amazon coffee green mountain nice strong enough like milder coffees one',\n",
              "       'one green mountains best blends coffee opinion love everyday blend perfect stregnth excellent blend',\n",
              "       'fantastic chicken noodle soup best ever eaten large hearty chunks chicken vegetables nice large noodles soup full bodied seasoned right glad amazon carries product cannot find vermont',\n",
              "       'used oil several years best eating bread cooking love regular use everything sorry tired great dipping bread cooking omelet green beans',\n",
              "       'oh gosh good like people eating ketchup whole life never really thought anything hubby brought jar home tomato flavor amazing never buy store ketchup every',\n",
              "       'ridiculous best gourmet ketchup ever tasted pricey wow love stuff would make great gift someone hard buy loves ketchup yummy',\n",
              "       'tomatoes star classic flavor clean really fresh perfect avocado chicken sandwich spicy flavor complex best ketchup ever tried good used foods would make seem crazy',\n",
              "       'spicy version ketchup bad expensive regular version sweet dessert horrible annie organic much better flavor costs lot less even heinz organic better deal gave three stars instead two glass plastic',\n",
              "       'condiments overpriced terrible classic disgustingly sweet spiced tastes like bad spicy marinara sauce chain restaurant',\n",
              "       'using porcini mushrooms cooking twenty plus years roland extra fancy porcinis purchased best ever used including mushrooms bought italy transported back usa',\n",
              "       'peanut lover much larger cocktail peanuts six people christmas gift list ask every year',\n",
              "       'although several shriveled ones taste fine mostly use make vegan sauces recipes call running food processor look perfect anyways price great deal',\n",
              "       'nuts arrived fresh tasty broken dirty looking like cashews sometimes',\n",
              "       'bought boyfriend really likes honey roasted pecans salads couple restaurants plus likes nuts pecans almonds peanuts loved actually ordered cans instead gift tin could take one work place stay fresh longer although think freshness issue last long lol',\n",
              "       'cat go day probably longer tryed walk right stuff every time even know hungery absolutely interest swear would rather die starvation even take wiff',\n",
              "       'got free another order placed could believe much cats loved buy sure',\n",
              "       'great ham soup base used ham beans seasoned greenbeans great flavor',\n",
              "       'used ham base loaded msg realize ordered return food item',\n",
              "       'discover mix amazon always bought whole food store like mix pancakes came delicious fluffy one small secret try add seltzer water instead regular one',\n",
              "       'appreciate fact buy product online free shipping great around mix good wonderful texture thanks amazon',\n",
              "       'arrowhead mills buttermilk pancake mix favorite mix tastes great cooks light fluffy super easy make although made using water think better made milk love pure organic maple syrup',\n",
              "       'pancakes taste great without recipe adjustments son egg allergy also great camping time would like able make pancakes without fresh eggs available',\n",
              "       'glad found mix make pancakes without eggs son allergy taste fine family like many ways',\n",
              "       'love flour however amazon sent book broke bag made mess customer sevice took care problem however foolish way ship product',\n",
              "       'mix poorly packaged breaks open easily shipping nearly full bag order spilled shipping box bags come unsealed top tears packages',\n",
              "       'awful thought food supposed taste good eat ice cream afterwards get taste mouth bad',\n",
              "       'perhaps worst bottle wine ever even sure would cook thin body transparent color characteristic good pinot taste bitter complexity expect pinot noir price looking even low mid price pinot noir maybe bottle sealed well went vinegar reviews wine favorable',\n",
              "       'good tasting light chip value nutrition everyone get munchies good alternative eating potato chips',\n",
              "       'wonderful warm flavored tea especially colder weather tea sweet soothing chamomile fragrance subtle sweet one better chamomile teas find hard sleep times cup sweet chamomile tea may help really like sweet taste try bigelow chamomile mango herbal tea highly recommend',\n",
              "       'grande item delicious fish ultimate flavor best ever purposes sent case mother recently diagnosed diabetes loves main entree cooking patties',\n",
              "       'ordered product time kirkland signature salmon raincoast trading co salmon tasty equally good quality salmon kirkland however raincoast arrived perfect condition kirkland cans dented badly recommend product anyone likes boneless skinless canned salmon',\n",
              "       'love product cant find locally sometimes little way stores also love chicken pork chop bags every store go look lastplace found meat market',\n",
              "       'best way cook roast local grocery went buisness could find product till looked please continue keep product available',\n",
              "       'always pleasure find french products web markets area made bargain carry nothing mccormacks bland tasteless seasonings flavorful cooking bag mix ever find',\n",
              "       'like oreo oreo cakester got try double stuff cakesters best side note shipping slow maybe chances better',\n",
              "       'surprised good family friends laughed told bought ready mix little salt pepper spinach cheese great easy meal',\n",
              "       'vile miserable pancake put front toddler one morning actually cried know flat anemic appearance salty bitter taste whole wheat flour organic mix buttermilk baking soda sea salt going back nature path buttermilk pancake mix one went straight garbage',\n",
              "       'whats say fantastic chocolate chip cookie thing could improved offered bushel box would run fast hope go way dinosaur',\n",
              "       'arrived time packaged green plastic wrap cookies fresh boxes found local grocery store complaints also cookies ate',\n",
              "       'fattening good right heard least admittedly unreliable person',\n",
              "       'great cutting back fat resemble regular chips nothing like extremely dry hard',\n",
              "       'never met kettle brand chip like chips great loaded potato flavor flavorful like sweet onion chips better also top list great tasting potato chips kettle chips great chips money',\n",
              "       'buy mostly vending size bag important kettle oz bag good size although seems bit less full salt vinegar flavor satisfying',\n",
              "       'glad find one ounce size bag seems bit less full hard find single serving chip bags vend well sometimes wide plump air bag size good bbq flavor',\n",
              "       'one best chips buy tried kettle varieties many others slight taste jalapeno delicious perfect sandwich alone like addicted chip see addicts anonymous',\n",
              "       'wow eaten quite potato chips day kettle chips best non baked chips eaten decided try sweet onion chips since never favorite like onions must buy definitely reorder mentioned best ever eaten flavor great',\n",
              "       'done side side comparison chips still taste like real deal snack sized bags well regular brand grocery store work portion control reduced fat yes please subscribe save much cheaper grocery store',\n",
              "       'love kettle brand chips love honey dijon years decided try flavors sea salt vinegar chips tangy sour make lips pucker eat many time got big bags steal amazon personally flavor much mom aunt love hate potato chips',\n",
              "       'chips thick crunchy absolutely love taste perfect like buy smaller bags cant trust large bag taste good',\n",
              "       'enjoy chips got instead usual jalapeno ones company bit flavor change think better slightly like jalapenos great amount flavor without overpowering small bag size prevents overeating larger bag',\n",
              "       'love chips buy pack month bags right size snacking prevent eating way much larger bags jalapeno spice subtle enough overpowering still gives great amount flavor',\n",
              "       'strongest tasting salt vinegar chips could still vinegar flavor think close going get without dousing vinegar powder side side cape cod salt vinegar twice flavorful additionally reviewers said quite good bit potassium',\n",
              "       'ordering sea salt chips year love daughter picked local grocery store new favorite ordering',\n",
              "       'favorite gluten free dairy free flavored chips many salt vinegar chips contain dairy nice find ones eat vinegar flavor really intense good',\n",
              "       'kettle best brand market really know turn humble potato something fit gods think anything could top salt pepper chips new favorite flavors pure real go great everything highly addictive hope come low fat version low fat chips excellent need flavors',\n",
              "       'salt vinegar chips definitely favorite type potato chip ones made kettle tasty enjoyed thoroughly wish healthy option great taste',\n",
              "       'tangy prevents eating many handful two trick crisp savory',\n",
              "       'usually love kettle chips love salt vinegar chips way vinegary typical kettle chip crunch aggressively flavored taste',\n",
              "       'tried many varieties bbq chips hands best market salty greasy great crispy crunch plenty good bbq flavor hint sweetness brands fall short every bag mouth wateringly delicious st',\n",
              "       'kettle chis best ever used favorite flavor tried salt pepper kind sure personal preference crunchy real potato chips',\n",
              "       'chips right amount crunch enjoy taste chips consistent fairly even distribution seasoning like oz size bags right amount chips',\n",
              "       'best deal ever delivery fast chips delicious fresh love',\n",
              "       'husband love chips personally think flavor perfect try',\n",
              "       'barbeque flavor chips really perfect spicy enough hint sweetness little smokey chips extra crunchy thick enough substantial hard makes wonderful snack great accompaniment burgers hot dogs brats chicken casual entree',\n",
              "       'professional potato chip muncher see thee best market rich taste flavor almost impossible finish entire bag true meaning decadence',\n",
              "       'hands absolute best salt vinegar chips buy great strong flavor left addicted certainly favorite chips highly recommend trying',\n",
              "       'oh love chips hard find find usually per bag less great cheap amazon',\n",
              "       'bought chips little sandwich shop sonoma vacation sure expect package first bite know think flavors hit yum bit spicy nothing overpowering lots crunchy sweet spicy goodness sold everywhere though still trying find somewhere close live',\n",
              "       'admit chips good highly addictive cannot stop eating crunchy seasoned right amount flavor salt perfect believe chips salty cannot finish small bag one keep eating',\n",
              "       'best chips ever sure beat anything else even cooked way better name brands tangy crisp satisfy craving time chips buy thank amazon letting buy online bulk save money time',\n",
              "       'chips remind long obsolete brand chips could get middle school far tastiest chips impossible walk past aisle without picking trademark blue bag putting bag clip bag',\n",
              "       'far favorite chips extremely crunchy extreme vinegar flavor differentiates lesser fried potato snacks tried several brands salt vinegar none come close',\n",
              "       'took get used chips pretty good healthy sure eaten family friends',\n",
              "       'delicious oz bags bit big school lunches definitely serving',\n",
              "       'always pleased amazon packaging chips never crushed broken always fresh really liked brand flavor chips tasty',\n",
              "       'chips best tasted filled chemicals taste tangy vinegar well potato greasy perfectly crispy like salt vinegar tanginess even bother try definitely zip love children friends love even year old loves',\n",
              "       'chips great deal kettle special deal case chips hard find vegas favorite flavor shipping fast sooner expected',\n",
              "       'eat risk would open bag could stop good salty',\n",
              "       'eat many chips love great buy arrived quick packed great expiration date ways away awhile enjoy great natural potato flavor love brown russet hardy flavor fit description tee',\n",
              "       'simply fell love chips refused share friends experience lot cheese favored chips salty little greasy side ny cheddar kettle really changed mind thanks amazon great discounts buy store anymore',\n",
              "       'bought box chips father day gift dad loves yummy substantial regular chips',\n",
              "       'chips quite tasty price right packaged well would buy',\n",
              "       'like kettle chips really disappointed order cooked bought bigger sized bag costco chips cooked perfectly know different never buy chips',\n",
              "       'reason amazon would ship alaska sent grandchildren got enjoy good chips amazon rethink shipping alaska thing would order groceries online',\n",
              "       'husband likes lot bit different get used less greasy salty taste usual chips buy browner would like see chips pretty sturdy texture bad though takes getting used eating chips better health calories fat however',\n",
              "       'got order ok bit light cheddar flavoring herb taste eludes',\n",
              "       'really love kettle brand chips rather disappointing little sour cream onion flavor',\n",
              "       'agree review chips sore mouth tender gums chips hard taste delightful enjoy salt vinegar combo unfortunately every bag received case cooked dark golden brown chips bag definitely need improve',\n",
              "       'love kettle chips lightly salted feel guilty eating used buy whole foods buying amazon saved us money purchased least times happy chips delivery',\n",
              "       'friend mine brought work claim change life life fairly unchanged cannot get enough chips even like kettle chips part find kettle chips thick greasy flavor chips amazing type hot refreshing enjoy spicy hot things try anyway may convert',\n",
              "       'happen like better sea salt vinegar chip found country',\n",
              "       'rarely eat chips saw tried really amazing love cheddar chips really thin crunch delicious flavor recommend',\n",
              "       'easily best potato chip ever look ingredients ginger types hot pepper go wrong obviously like spicy food like spicy food probably love hot hint sweetness flavor combo prevalent lot thai food',\n",
              "       'okay eat potato chips anyone spicy would find hard eatvery many makes indulgence thatrescues people overindulgence',\n",
              "       'write many reviews say kettle brand chips best ever tasted every flavor dynamite feeling iffy honey dijon would recommend cheddar beer absolutely amazing healthy eaten lot chips day kettle takes cake enjoy eat fast',\n",
              "       'bought office one put ordering today weeks shop either amazon brought door',\n",
              "       'great value like package size vinegary enough order brand great chips otherwise',\n",
              "       'perfect favorite season variety spices exactly suit tastes without salt',\n",
              "       'amazon suggestion star review like said gave star review spicy thai chips chips perfect people enjoy spicy chip whose taste buds appreciate added sweetness ginger flavor thing really dislike chips serving size half bag really eat half save rest later',\n",
              "       'best unsalted chips around tried many best potato flavor came said would',\n",
              "       'really looking forward trying chips since love cheese super disappointed big fan kettle chips tasted somewhat stale almost plain supposed cheddar taste cannot taste annoying recommend flavor salt vinegar buffalo bleu favorite',\n",
              "       'kettle chips look feel taste like lays chips used favorite crinkle cut hefty longer favorite',\n",
              "       'great price excellent chip cents ounce bag bargain well tasty chip everyone let try impressed commented good taste yet find kettle chip disappointed',\n",
              "       'love chips bought stock entire school year chips taste great packages sealed good condition arrived box hand tatters holes complely squished know result customs voyage receive bit disgruntling given falling apart luckily victims within chips',\n",
              "       'first time tried sea salt vinegar chips taste make sure like salt vinegar ordering may suprise never tried stick salt black pepper chips',\n",
              "       'despite coming extremely large box found great value bags preserved reasonable expiration date months away would definitely recommend',\n",
              "       'nasty greasy rich blood plus lacked major flavor spicy jalapeno flavor dissapointed chips always hearing great things chips telling yuck yuck yuck give pain chips day maybe better kettle chip brand staying clear chips wish could give zero stars could',\n",
              "       'like spicy like spicy enjoyed also crunchy kettle cooked chips',\n",
              "       'decent want realllly good salt vinegar chip try boulder salt malt vinegar chips awesome',\n",
              "       'salt free product purchased chips quite greasy',\n",
              "       'things darn cheesy like lot flavor love otherwise overdose cheddary goodness',\n",
              "       'need salt hide taste potato chips chips prove taste potato comes instead masked ok still snack food salt trans fats mean healthiest potato chips get low salt diet available means eat chips kettle best',\n",
              "       'potato chips excellent trans fats taste absolutely delicious whenever mood potatoe chips kettles brand buy great product anyone enjoy highly recommend enjoy',\n",
              "       'tried lot chips best real sea salt real vinegar mouth watering flavor crispiness faint heart flavor authentic',\n",
              "       'backyard bbq kettle chips great deal promo code nice larger size bag kettle chips grocery store ounces polish one family lunch arrived fresh crumbles chips amazon grocery great flavor natural',\n",
              "       'chips tangy hoped expected poore brothers better choice hard core salt vinegar fans',\n",
              "       'bags lot overcooked brown pieces also felt greasy keep wiping fingers napkin',\n",
              "       'first time tried thought wow quickly found darn spicy tart hard enjoy potato chippiness mouth seige',\n",
              "       'chilling fridge seems boost flavor even using rather corn chips make nachos tastebuds singing like janet jackson highly recommended',\n",
              "       'originally produced england best chips ever tasted unfortunately since bought us conglomerate taste plain nasty hard rather crispy much thinner used lacking flavour real shame',\n",
              "       'opening numerous bags found none chips flavoring completely plain gross even happen',\n",
              "       'chips okay personally find flavor combination greasy chip somewhat strange necessarily bad kind chip going able three four chips flavor loses novelty',\n",
              "       'bought local supermarket enjoyed although salty leave tongue roof mouth burning keeps eating many occasionally get really stale items amazon com one unedible beware quality food items website special close due dates case expired stale unedible',\n",
              "       'chips good could stop eating last long reason gave stars instead think bags little hard open sure need make potato chip bag sturdy may need scissors hand open much easier',\n",
              "       'kettle brand chips used good oily crunchy flavorful suspect company bought recipe changed worse better big name brand chip try good health kettle style olive oil chips instead good kettle brand kettle brand chips',\n",
              "       'chips nasty thought someone spilled drink bag chips soaked grease nasty',\n",
              "       'bought brand trial since tired pingos claims natural argument point bag fried brown color really suffer eating fried chips open bags looks like throw away know bad luck every bag selling sure never buy brand',\n",
              "       'good wish also baked found baked salt potato chips anywhere wish someone would post',\n",
              "       'better england know maybe nostalgia part',\n",
              "       'ordered kettle chips following flavvorssalt fresh ground peppertuscan cheesen cheddar hersthey tasted variety pack suggest order ordering large size wish could return unopened bags',\n",
              "       'purchased low salt indeed low salt however many many chips bag literally dripping oil never encountered problem potato chip brands unappetizing wants oil never buy would recommend others',\n",
              "       'looking strong flavor definitely mild comparison many others live tx tell tried chips get ahold best best heb world market bob zapp bad chip standpoint typically great kettle crunch looking flavor touch',\n",
              "       'chips greasy taste burnt grease bottom bag chips saturated especially bottom bag even trans fat free need lot less greasy',\n",
              "       'waste money kettle brand potato chips bought case case cheddar sour cream cases ended garbage',\n",
              "       'defintely tasty madhouse munchies family favorite kettle dark burnt broken bits taste greasy oily light crunch oh well',\n",
              "       'love sour food one cannot bear strong sour taste even open bag sour smell strong like',\n",
              "       'unless really really really like vinegar avoid chips called vinegar sea salt sea salt vinegar',\n",
              "       'loved kettle brand sea salt vinegar chips since first time tried fact able find line great price wonderful would definitely make purchase quick simple snack lunch goes great cold sandwich',\n",
              "       'daughter autism craves hot spice pungent foods absolute favorite chips calls sour chips wants lunch time love crispy kettle way cooked',\n",
              "       'great fan potato chips thai food happy kettle chips decided meld two great loves together chips spicy enough without burning hole tongue also nice hint sweetness makes habit forming treat definitely worth indulging',\n",
              "       'glad able find site love flavor crunchy box packed inside another box still bags end crumbs bags survived tact',\n",
              "       'chips taste awesome unlike flavored chips actually make sure plenty flavory salty goodness gets individual chip pass gas near pretty ladies consumption totally know',\n",
              "       'never addicted anything life tasted chips tried brands sea salt vinegar flavor got stick blue bag chips',\n",
              "       'bought sale amazon nice crispy thick chips definitely great buy catch sale',\n",
              "       'like order kettle spicy thai chips amazon hard find locally probably aggrieved know recipe changed like regular potatoe chips paid husband gets eat like spicy thai fine yuck',\n",
              "       'real good product love chips customers cannot go wrong wit best',\n",
              "       'love chips whole family hooked chips eat',\n",
              "       'know say others covered like potato chips like get em sale limit intake',\n",
              "       'looking probably already know like chips great deal problems going stale oz bags great size snack help avoid eating',\n",
              "       'admit oversalted chip addictive really think one gone far skin literally peeled lips inside mouth eating surprised still market',\n",
              "       'mg sodium per serving chips crisp sometimes dip low salt ketchup adds bit flavor',\n",
              "       'found product kettle chips unsalted fabulous found accident amazon hunting local stores crisp tasty without salt',\n",
              "       'smiles thank lord found another healthy snack food unsalted tastes great almost gave finding potato chip like thing would ask kettle change texture slightly hard crunchy problem would prefer softer kettle make happen please keep everything else thank',\n",
              "       'favorite everybody way sort taste like oriental flavor ramen kick one go wrong combination jalapeno ginger bit rich everydayforamonth snacking case purchase recommend trying single bag buying entire case oz size seems longer available shame eat entire oz bag',\n",
              "       'salt vinegar chips favorite flavor think tried every brand far best also like sodium content high like others excessively greasy seem right balance salt vinegar taste',\n",
              "       'love jalapeno chips kettle must try nice cruncy kick jalapeno delicious addicting recommended',\n",
              "       'achieve potato chip nirvana simple buy chips get tomorrow eat repeat best old school bbq flavor therekettle qualityincredible price amazondid mention delicious terrific bargain',\n",
              "       'found years ago health food store bought one bag found stopping store week get chips new york cheddar flavor good hard time eating whole bag',\n",
              "       'enjoy ever step gained lbs within month buying pack full sized bags damn warn tastes awesome though finish crash diet order another box',\n",
              "       'eaten brands unsalted potato chips always terrible expect much bought tasted amazed never enjoyed unsalted potato chips natural potato flavor thick crunchy chips bad thing bag pain open use scissors save aggravation',\n",
              "       'kettle chips thicker crunchier chips honey dijon flavor great overwhelming salty taste cheaper chips oz size great adult size snack',\n",
              "       'always liked salt vinegar chips time stronger flavor bottom bag vinegar overflowing right first chip doesnt stop finished bag addictive like salt vinegar ultimate chips nothing else compares',\n",
              "       'tasted good spicy like spicy stay away price paid good buy',\n",
              "       'seriously delicious especially like plain potato chips concern oily understand kettle chips fried open bag coating oil inside bag chips suggest blot shake paper towels consuming either way yummy potato taste satisfying crunch delicious',\n",
              "       'bags difficult open aid tool scissors even try without scissors crispy taste like chips advertised salted definitely healthy feel grease fingers eating see grease bottom bag high quality chips deserve put table',\n",
              "       'really amazing chips put one cheeses blue cheese subtle even blue cheese haters enjoy',\n",
              "       'chips delectably delicious low sodium diet give totally something truely love snack chips bursting flavor cannot really tell missing salt kiss worth chip beleive total makeout',\n",
              "       'salty like regular supermarket chips snack overwhelm guilt gotta chips kettle chips lightly salted chips searching cholesterol trans fats artificial anything manufacturing process actually seem kind home made quality excellent product',\n",
              "       'agree company motto natural obsession tried small bag local store immediately bought bulk online save percent flavor strong best paired food mild flavor like steamed vegetables plain whole grain bread otherwise compete clash food',\n",
              "       'new favorite always fan salt vinegar honey dijons replaced new number one strong taste loving honey mustard flavor must hope like price wise see much deal purchased grocery shipping would given product stars price taste fabulous disappointed',\n",
              "       'chips good ended eating whole bag day cause good glad dextrose like lays',\n",
              "       'best chips nothing beat taste like honey mustard definitely like eat wont stop addicting stuff',\n",
              "       'dont know fresh supposed taste like checked expiration date current still tasted kind stale',\n",
              "       'first thinking cheese flavored chips love herbs used delicious cheese overpowering yummy crispy',\n",
              "       'sent week past fresh date stock chips noticeably fresh taste order edit add dangers expired stock one bags rat hole black marks inside hole obviously rat unfortunately put chip mouth saw hole bad form amazon',\n",
              "       'try good feel like indulging delicious gourmet potato chips new york chedder potato chips first flavor like go see natural food store chips tangy crunchy satisfy potato chip fix like brand',\n",
              "       'love salt vinegar potato chips one choose flavor zippy tart unpleasant chemical aftertaste like less natural versions snack ounce bags right share lunch chips little greasy given stars instead',\n",
              "       'kettle lightly slated chips favorite market care fancy flavors salted right thick super crunchy full flavor best',\n",
              "       'chips tasty expected low salt item seem salty regular potato chip also seem excessively greasy comparison cape cod reduced fat chips less salty least much potato flavor far less greasy',\n",
              "       'fantastic tasting potato chips love individual bags great kids adults trans fat cholesterol artifical stuff low sodium high potassium great people like hbp problem amazon stock times price high',\n",
              "       'chips come large box individually wrapped bags chips bags strong much thicker say lay potato chip bags inside tasty kettle cooked chips salted right appear cooked actual kettle fashion cooked others gives authentic non manufactured feel people may like reccomend',\n",
              "       'yo kettle chip addict happy find snack size bags lunch great quality much cheaper stores definitely buying',\n",
              "       'miss vickies better unfortunately less widely available sure tough right word noticeable difference two brands miss vickie better imho',\n",
              "       'think chips awesome best along poor brothers salt vinager chips buy spicy thai chips smaller bag might much flavor larger bag least experience last time bought amazon like would suggest trying spicy thai bag bigger ounces',\n",
              "       'kettle chips taste good crispy crunchy enjoy also moreover thinly cut sliced',\n",
              "       'knew family already liked chips brainer take advantage great price good chips price per bag cannot beat order subscribe save good thing always change delivery interval notice go quicker slower anticipated',\n",
              "       'bought tea alternative pricey teavana black teas cup every morning smooth refreshing tea',\n",
              "       'tea tin guarding aroma well taste beautiful malva flowers soften taste amount bergamot right first time used much tea soaked long since save quantity tea leaves soak tea two minutes delight best earl grey ever price competitive',\n",
              "       'biscuits delicious sweet enough crunch love quick delivery would order satisfied',\n",
              "       'excellent lo fat lo calorie treat dogs german shorthair pointer treats favorite',\n",
              "       'product great job clearing kidneys helped make husband feel lots better even though early renal failure',\n",
              "       'love bag shrimp pound stir fry veges little onion chopped hot tasty',\n",
              "       'make coffee creamer part commercial coffee creamer vanilla butter creme almond bavarian creme flavors rest milk tastes wonderful half price store bought excellent',\n",
              "       'good quality nectar tasty however expecting fluid ounces ounces weight find ounces weight makes fluid ounces',\n",
              "       'first time ever used agave nectar great keeps blood sugar stable great buy also',\n",
              "       'sweetner best brings true flavors ever add great health benefts',\n",
              "       'love stuff sweetens without affecting blood glucose levels could figure make tequila would set kidding',\n",
              "       'finally found natural sugar substitute added benefit low glycemic index agave delicious recommended many friends economical purchase oz bottles',\n",
              "       'love using sweeten tea coffee etc tastes much better low glycemic sweeteners bitter aftertaste',\n",
              "       'ordered product two times happy delivery product works great cooking baking substitute sugar chai lattes',\n",
              "       'really like product taste great coffee tea lost weight cutting sugar replacing honey agave nectar',\n",
              "       'love product best natural sweetener ever tried tried many use also pancake syrup substitute honey peanut butter honey sandwich last long time good value',\n",
              "       'using agave nectar several months found staple home madhava agave nectar good tasting good buy',\n",
              "       'stuff great low glycemic substitute sugar body great favor size economical shipping fast got mine soon',\n",
              "       'save little money buying larger quantities opposed smaller bottles like taste agave cross honey maple good pies cereal frozen yogurt etc',\n",
              "       'awesome product ordered many times honey like flavored lower glycemic sweetener great coffee tea',\n",
              "       'thank product use time appreciate promptness price excellent thanks',\n",
              "       'disappointed product could see many calories time ordered received see calories per tablespoon granulated sugar calories per tablespoon could agave nectar better sugar',\n",
              "       'dinner friends family saloon rte entertainment complex sanford fl besides awesome staff fabulous food serve china mist tea st time chose tropical organic green doubt best flavored tea ever',\n",
              "       'tried conventional kettle crinkle chip verson salt peper cannot compare easily spicy chips ever eat oompletely enjoyable finish bag indside coated spices great stuff',\n",
              "       'best tasting tortilla chips ever become allergic tomatoes love tortilla chips much flavor chips longer miss pico de gallo prefer eat plain also right amount heat make flovorful overpoweringly spicy',\n",
              "       'potato chips delicious potato chips approximately two years difficult find organic chips amazon lowered price finally chance order definitely ordering family love pure void artificial flavorings true flavor present satisifies need something salty sweet spicy crunchy',\n",
              "       'chips great snack want junk assiciated chips try like',\n",
              "       'love chips flavor plain sweet spicy time drawback tad bit much salt still great flavor',\n",
              "       'right amount spice make hot also sweet hard find new jersey one bag around',\n",
              "       'cannot believe wonderful chip slightly spicy taste gives chip extra punch flavor family offically addicted',\n",
              "       'chips perfect snacking without salsa texture brittle thin like plocky chips downside spice minimal',\n",
              "       'think plocky brand whole cut quality found lack taste somewhat little greasy',\n",
              "       'best chips ever eaten everyone family loves sweet spicy crispy really good delivery perfect crushed chips fantastic overall',\n",
              "       'nice case chips quite tasty definitely enjoy kettle sea salt black pepper wish bigger bags',\n",
              "       'first think chips spicy spice grow bite really good',\n",
              "       'aunt gave bag immediately addicted actual pieces beans chips overly salty like chips love zip agreed awesome without salsa trans fat',\n",
              "       'excited thinking favorite discontinued kettle flavor disappointed opened box found substitution keeping would ordered bags flavor good bbq chip could get flavor grocery store oh favorite food items always get discontinued one star substitution country bbq start chip chip longed',\n",
              "       'love chips eaten alone since crisp tasty dip every one introduced chips loves expiration date months ordering bags come near going stale',\n",
              "       'love chips unique taste incredible crispy texture used get henry san diego ca moved ordering amazon since running constantly',\n",
              "       'chips ones found tasty healthy fewer fat calories plus higher fiber want good taste nutrition perfect blend',\n",
              "       'love cannot always get local stores keep stocked even though always buying strong enough dip condiment great flavor grain texture',\n",
              "       'spicy chips lot great flavor warned left stanky breath afterwards first time ate night even brushing flossing could taste mouth next morning careful eat especially hanging people later day',\n",
              "       'first time ate chips aruba could find area imagine joy found amazon love hope continue carry prices terrific pay aruba run bag buy case amazon good job problem everybody wants steal bags case comes ok sharing good',\n",
              "       'used buy local supermarket longer carried finding amazon purchased box found fresh delicious remembered chips also healthy definately buy',\n",
              "       'plocky red beans rice tortilla chips really tasty shared bags daughter iraq said umm good good artificial stuff',\n",
              "       'like plockysthey like us plockys plockys mean fuss taste good healthy plockys plockys grab bag two thank plockys',\n",
              "       'love potato chip soooo good sweet spicy overwhelming enough work palate salty enough balance sweetness ordering soon love',\n",
              "       'best potato chips ever best price ever paid service respectable shipping free',\n",
              "       'love product different flavors fantastic family likes grain best corn tortilla chips house',\n",
              "       'love chips even like black beans tasty yum plus good',\n",
              "       'chips fanfreakintastic doubt best chips ever nice sweet smoky flavor little bit heat oh ya baby',\n",
              "       'nice amount heat smoke tasty chip goes great brew',\n",
              "       'chips salty hint sweet crisp crunchy best chips ever',\n",
              "       'ok want get addicted try plocky red beans rice tortilla chips husband started one seemingly anodyne bag store received second case last long beware',\n",
              "       'plocky tortilla chips red beans rice ounce bag first tasted chips visiting relatives ky available live ordered amazon wow friends family addicted spicy flavor grabs first bite bag open gone',\n",
              "       'like chips salsa quacomole better cips market even great order long available thank making accessable shelly kenyon',\n",
              "       'guess telling tickle palate huge tabasco fan love unconventional snacks taste even remotely like wonderful sauce made find much kick practically bland fact even strong aversion wasting food throw give away case favor find bag locally taking chance',\n",
              "       'yeast extract listed ingredient sounds harmless right specifically chips contain autolyzed yeast extract chemical level monosodium glutamate derived different source toxic properties kettle still advertises products containing msg acknowledge chips safe people msg sensitivities',\n",
              "       'flavorful enough taste seems seasoning falls chips sinks bottom bag bad really liked idea healthier potato chip would buy',\n",
              "       'love chips ordered florida case chips came without packing inside bags box cushioning needless say chips broken would order great item cannot package aid minimal chip breakage one wasting money',\n",
              "       'received chips gift basket absolutely loved searched high low unable find saw immediately ordered case chips light crispy flavorful good love dip chili plain try hooked',\n",
              "       'chips truly amazing light crisp great tasting nice texture natural low fat sodium need say recently bought bag regular grocery store could belive taste buds excited saw amazon decided buy case',\n",
              "       'fantastic chips ever could eat whole bag made lots whole grain beans make complete protein qualms feeding kids snacks great problem bag small need bigger bag',\n",
              "       'like potatoe chips hot sweet overwhelming taste garlic also bit salty',\n",
              "       'good job shipping order quickly nothing like ace hardware took week ship',\n",
              "       'wonderful candy hard find got huge bag put freezer came shipped nicely sturdy box heavy plastic great',\n",
              "       'bought thi dad surprise birthday present could find else',\n",
              "       'surprised find taiwan shaped pineapple cakes cute never found pineapple cake like local asian supermarkets ordered lovely pastries made dragon boat festival party much fun friends think good idea order mid autumn festival party',\n",
              "       'really like pineapple shortcakes sold unlike mass production pineapple shortcakes use artificial flavoring tasselfield pineapple shortcakes use real pineapples makes whole world difference even taste fibers pineapple opted traditional pineapple time interested trying longan mango variety next time',\n",
              "       'purchased pack big ass soda got immediately like oh man gonna suck regardless quantity error though sure kicked red everyone town absolutely loves highly recommend along soda voltages malcom',\n",
              "       'well big red fan bought first let tell price amazing mean else get type deal saudi arabia everyone village loved course wondering next shipment get',\n",
              "       'expiration date smashed stale edible real enjoyable price paid one best pretzel wheni purchased publix stopped carrying must find another addiction',\n",
              "       'cinnamon cake loaf wonderful natural flavor moist tender great little sweet treat want something terribly bad diet delicious',\n",
              "       'unfortunately ordered quite previously neglected look word supreme offer since receiving free shipping delivered knew immediately different previously enjoyed currently amazon featured supreme babka awaiting receive future read carefully',\n",
              "       'well opened grayish sticky mess mad wasting money trying make scratch home would probably end better cheaper oh well live learn',\n",
              "       'product disappointment reviewers said gluey sticky texture akin elmer glue edible food product flavor sickening sweet actually thought frosting spoiled bad save time make frosting go another brand cherrybrook cake cookie mixes good hard believe even sell',\n",
              "       'glad found reduced rack taste bad way could frost cake stuck knife ran strings mess thought gotten bad batch gds birthday cake looks like crap would buy mess horrible',\n",
              "       'work college financial aid keep bowl desk students used buy grocery store learned could get less online thought good deal found great deal',\n",
              "       'well worth money calculations different bags dollar amount excellent value approx pops box far half box found without wrappers pretty good considering need lbs dum dums go product enjoy',\n",
              "       'flavor lasted longer would probably die starvation lack wanting take mouth',\n",
              "       'gum super sick tatooes killin flavor spankin brings back bomb diggity memories yo peace',\n",
              "       'husband disappointed coffee weak watery cup coffee definite waste',\n",
              "       'enjoy flavor soy really like plus hand made good ole usa',\n",
              "       'recently acquired bottle immediately impressed good flavor without excessive saltiness supermarket brands used marinades dipping sauces addition straight use cases added little something extra quite surprise find american made soy sauce tastes good',\n",
              "       'soy sauce best ever thanks amazon able find makes big difference using product thanks',\n",
              "       'delicious soy sauce ever tasted surely order deep flavor',\n",
              "       'saw made interesting process decided give try really enjoy flavor adds looking forward trying several dishes thanks brewed',\n",
              "       'soy sauce japan problems radiation soy bean fields sure long contamination last like idea product claims gmo seeds yea pay decided take chance japan',\n",
              "       'item werther sugar free hard candy consumed give friends loose bowels purchased bags discovered bowel problem cannot return need laxative ten unopened bags free',\n",
              "       'bold blend great taste flavor comes bursting usually brew drink organic sumatra mandeling bj use blend exclusively get cup rivals complex flavor tassimo brewer fantastic come amazon add subscription service',\n",
              "       'tried many tassimo flavors far favorite normal cup coffee starbuck house blend cuisinart pot one two days week use tassimo coffee rich stong understand current price disks hope lowered amazon buy elsewhere',\n",
              "       'one best choices opinion also adore amazon need negotiate better price tassimo disks available bedbath beyond always get brings months ago excellent blend full flavor bitter think favorite',\n",
              "       'coffee available tassimo kona richest flavor fantastic aroma byfar favorite',\n",
              "       'think favorite cookies ever really light creamy bad longer find anywhere less two hundred count think need many',\n",
              "       'kind tea good taste smell wear like tea feel like thing chemical',\n",
              "       'ordered dad fathers day ate whole box within two days said tasted really good want order haha',\n",
              "       'great candy family loved smaller imagined thought expensive small however germany get easier shipping usa makes expenive great product fun usa family receive',\n",
              "       'eat mustard everything hands best mustard ever tried fact everyone tell try falls love well spicy tasty real quality like spicy mustard love',\n",
              "       'laddoos turned bad days received item inside fridge turned bad',\n",
              "       'product works wonders stomach issues would buy need',\n",
              "       'ferret loves rabbit nice high protein treat addition regular evo ferret diet price reasonable compared local pet store often item stock',\n",
              "       'great described used bee themed party use go packs honey coffee tea',\n",
              "       'disco dust edible made baking purchase product purposes',\n",
              "       'happy quick shipping needed school product daughter came roof broken corner house broken could send back needed project',\n",
              "       'son sb fanatic excited find holiday season every year version gingerbread knew reading reviews would enough yellow frosting whipped edible glue hold levels gingerbread make pineapple save yellow frosting outside worked great really fun idea enjoyed creating licorice worthless though',\n",
              "       'easy looks came enough yellow frosting frosting stick well year old like making though',\n",
              "       'pleasantly surprised find item delivered day order speediest delivery date probably helps location near everything looks described pictured happy done business seller gingerbread house carefully packaged harm fragile pieces inside excited give item gift',\n",
              "       'cookies fun paint tasty eat kids really care much might beenmore fun could eaten really fun coloring',\n",
              "       'disappointed product thought would bigger also come enough icing use',\n",
              "       'whole idea spongebob ginger bread pineapple really great sticker says use jn date thats good think would fun make cute decoration son going want eat least seller could check expiration date right front box happy',\n",
              "       'tea best tea ever first tasted norway find states every morning',\n",
              "       'love aroma taste fruit vanilla combo addition ginseng added energy boost rounds tea nicely sweet tea makes wonderful healthy alternative desert dinner see others like really matter personal taste different courses different horses',\n",
              "       'good quality brand chocolate many flavours one tasty fast delivery',\n",
              "       'mother father recipient wonderful pieces chocolate heaven believe deserved receiving know deserve receive',\n",
              "       'course know delicious ghirardelli chocolate unfortunately purchased two gift bags online found local store half price lesson learned',\n",
              "       'chocolate treat great gift arrived right expected gave girlfriend surprise gift absolutely loved',\n",
              "       'first time ordered came melted amazon quick remedy situation sending another product great thank',\n",
              "       'people really paying bucks chocolates umm go grocery store bag wow',\n",
              "       'low calorie satisfying soups nice fill want much want hungry hours',\n",
              "       'looks pretty contents minute seem high quality plastic cup tea looks like came dollar store basket nice though',\n",
              "       'purchased gift mother lightning deal happy loved basket enjoyed cookies flavors tea included shipped quick arrived expected',\n",
              "       'received quickly extremely well packaged since smaller sized basket would adorable present anyone likes tea self hand nicely assembled attention detail',\n",
              "       'small chocolate cups specialty party item never able find past wanted amazon provides link used commonly called jello shots provide solid edible alternative small paper cups',\n",
              "       'bought chocolate liquor cups party big hit high quality good buy',\n",
              "       'great serving chocolate liquor adds touch class event elevates host supreme able eat cup afterwards icing cake',\n",
              "       'delicious chocolate cups aluminum holder could find local store happy find line people unaware impressed serve little cordial liquor chocolate cup sipping theliquor eat cup could nicer excellent product',\n",
              "       'holiday liquor cups exactly looking chocolate isdelicious holds well liquors',\n",
              "       'strawberry twist long lasting pleasant flavor sweet excessively delivery timely price right supieror trident flavors though spearmint bad either next pick would blueberry',\n",
              "       'trident strawberry twist sugarless gum disappointing taste consistency strawberry flavor artificial tasting though guess good thing long lasting gum also gets stringy fairly quickly chew lot gum buying flavor recommended cfh',\n",
              "       'love flavor cant find shelves anymore gum tasted fresh actually way better used buy stores',\n",
              "       'best dog food market today numerous ear problems cocker spaniel cleared since taking food',\n",
              "       'spaniel tried several foods years one eat without people food added went month tooth cleaning appointment vet told us take home teeth need cleaning another months least specially designed teeth health needs loves actually cheaper fancy pet store could ask',\n",
              "       'royal canin recommended dog since line dog food specific breed difficult find stores petsmart petco carried cocker spaniel formula smaller bags much expensive per ounce ratio finding larger bag great deal cocker loves food',\n",
              "       'food especially designed cocker spaniels range health issues using product three dogs happy also packaged well result stays fresh long period time great product',\n",
              "       'tired many different dog foods yrs cocker spaniel came upon breed specific dog food figured would try dog loves food always finishes food used yr tired seen significant change active well buy brand food buster gives paws give stars',\n",
              "       'fast great service cavashon loves low fat dog food thanks arrived great condition thank thank thank',\n",
              "       'chocolate moose mickey moose nice owner bought great food us love much gained lbs eat mickey food looking skin fur much better',\n",
              "       'year old cocker spaniel loves food good needs lose pounds trick glad found amazon hard find elsewhere',\n",
              "       'lb bag oatmeal seemed like way much time went found uses many recipes make weekly running high quality oatmeal much cheaper better anything found grocery store',\n",
              "       'better organic oats advertised elsewhere takes lots water minute oats oatmeal cookies come right crumbly soggy',\n",
              "       'honeyville rolled oats delicious product using make product designed increase enrich milk production lactating mothers oats shipped timely fashion amazing thing paid shipping lbs oats encourage anyone likes oats order honeyville rolled oats flavor rest',\n",
              "       'nice flavor bitter really like coffee searching coffee pleases whole family tastes one',\n",
              "       'tea surpassed breakfast teas tea drinking household love really starts morning right perhaps caffeine old favorites taste wonderful without additions remain tea choice morning often throughout day',\n",
              "       'numi organic tea chinese breakfast yunnan black tea loose leaf oz bag brew iced tea refrigerator half gallon tea excellent resealable bags work well unopened protect large stash making easier manage subscription',\n",
              "       'taste harsh lesser grade yunnan ok drink really enjoy make hurry able fully enjoy tea anyway',\n",
              "       'used maybe half dozen bags tea last year delicious consistently good quality black tea mainly use several numi teas tea blends making kombucha',\n",
              "       'hardly ever write reviews tea quite excellent decided try without sweetener added taste enhancers flavorful without overpowering great pleasure fine tea like loose reasonably priced first try continued drink comes see leaves soaked premium tea',\n",
              "       'read reviews purchasing pleased purchased numi teas gave generally happy theri products',\n",
              "       'mind fine caramel creamy melting grainy flavor fine although little sweet taste',\n",
              "       'eaten way though das caramel range remains time favorite one usually gets rave reviews share caramel fan ages werthers butterscotch pinch nothing come closer mother used make chewy buttery little crunches salt spectacular',\n",
              "       'although enjoy flavor ordered tiny bit chocolate walnuts one still enjoyable flavor wonderful service ms das including hand signed coupon discount future orders along samples couple caramel flavors would order chocolate walnut flavor sure along das food gourmet salt',\n",
              "       'certainly best caramels ever wish came bigger pieces finished whole box one sitting certainly buy',\n",
              "       'idea good caramel flavors ginger pistachio dominated chocolate walnut orange honey varieties missed mix rich buttery dairy flavor caramelized sugar expect caramels',\n",
              "       'old chemist spectrophotometer pleased chemical say advertized',\n",
              "       'baking soda works great cooking health reasons take acid indigestion heart burn tsp half glass water gone use make body alkaline great changing ph level body',\n",
              "       'recently started using bob red mill baking soda pleased performance sure contaminated aluminum thanks bob',\n",
              "       'happy quality product price like reviewer would prefer plastic liner preserve freshness however continue buy product regardless quality oatmeal good price edit th bag quality continues high',\n",
              "       'product fresh good getting complaints anymore worth large quantity shipping charges hey oatmeal favorite',\n",
              "       'good quality oats package came time oats worked well recipes admit single person bought oats boyfriend breakfast food lasted us year otherwise excellent buy',\n",
              "       'cannot eat oats funny taste kids also think taste funny husband thinks ok pounds oats eat',\n",
              "       'looooove pocky got lucky couldnt stop like chocolate laced crack anywho product good sad thing shipped stored hot room chocolate melted together partially didnt take much effort take apart sticks great product great price merchant',\n",
              "       'many purchses made amazon past december pleased pocky chocolate cream covered biscuit sticks arrived time hit surprised gift sure keep refridgerated',\n",
              "       'got kids christmas stocking stuffers love far delivery product came good condition timely terrific definitely good buy',\n",
              "       'chocolate stick melted sticks stuck oneanother product concept good better buying supermarket directly get someone visiting japan',\n",
              "       'first love packaging making heatproof would problem ordered winter freakishly cold also want thank veryasia free sample mi goreng delicious love mi goreng',\n",
              "       'bought daughter grad party well strawberry loves things great product',\n",
              "       'everyone family except one really likes taste addicting includes year old',\n",
              "       'think pocky get stored rightly chocolate falling biscuit stick taste many stick together whenever want split becomes messy need clean desk every time',\n",
              "       'everyone loves pocky say lying lol pocky arrived good condition minimal melting broken pieces',\n",
              "       'great couldnt stop eating lowest priced anywhere buy even next time cant say enough shipped faster paid shipped also thank much',\n",
              "       'bought pocky vacation enjoyed living asian stores shop internet guys family seem like better ladies reason bit insanity search pocky commercials youtube',\n",
              "       'individual pocky sticks separately packaged melt stick together shipped',\n",
              "       'recently stopped eating number allergens one snacks fit dietary restrictions unfortunately pretty gross miserable texture cardboard flavored berry threw away would recommend cocoa ones much tastier also allergen free',\n",
              "       'son multiple food allergies really enjoys bars find good berry taste also nice chewyness',\n",
              "       'love sweet right allergy free food great book hope non ingredients contains corn thats however dont appreciate fact opened new box cut size less charge effect decision buying toddler need real size bar please',\n",
              "       'refer picture posted bar half size think going literally two bite bar deceptive advertising fact ridiculously expensive reason one star year old son ate one like ate one agreed husband could give away everyone different tastes tasty treat far concerned',\n",
              "       'son severe allergies item loves convenience feel good giving taste great',\n",
              "       'tasty convenient bars people celiac disease seem gotten smaller time taste convenience outweigh reduction size',\n",
              "       'looking great gluten free snack sorry chose product favorite flavor apple nut',\n",
              "       'brand granola bars really good berry favorite however bars almost ridiculously small yeah gluten free food lot dense food honestly normal sized good tasting granola bars really tiny taste great bar small',\n",
              "       'ok husband eats car keep celiac snack eat otherwise definitely raspberry kind dry never tried snack bars honesty may norm know like enjoy life products gf msg related products aspartates',\n",
              "       'great taste great ingredients great texture absolutely delicious little smaller may still hungry meal give one year old son breakfast still little hungry either taste good wants',\n",
              "       'recently diagnosed gluten intolerant looking products allow resume semblance former life snack bars fit bill mouth feel traditional snack bar pleasant tart sweet fruit flavor',\n",
              "       'son loves fruit bars smaller typical wheat fruit bars suggestion get child like first try chocolate ones son favors ones berry ones',\n",
              "       'want really good snack bar try healthy taste good granola bar without gluten buy regularly',\n",
              "       'best coffee ever light taste full bodied pleased packaging resealable keeps stay fresher much longer unlike brands construction stays intact must say wont displeased purchase must buy',\n",
              "       'best coffee ever run american pavilion cannes weaver far away popular coffee sponsor hundreds people come pavilion every day looking american coffee disappointed booming business year buy happy julie',\n",
              "       'first ball worked pretty well looked little beaten since half fallen pieces hot water mind rate failure tea pretty good fairly tolerant steeped long time',\n",
              "       'numi winner tea husband son often share wonderful tea dinner pleasant reason love turn bitter longer steeping like teas',\n",
              "       'baby loved one progressed cut one runny move spoon quickly way grabby hands think could use little less water maybe little potato make consistency turkey dinner one',\n",
              "       'little girl cannot get enough like organic contains fruit veggies protein grains one tasty meal wish came larger portions since month old always wants jars',\n",
              "       'daughter favorite first foremost love get lentils many stage vegetarian choices',\n",
              "       'wow shocked find clear plastic pieces jars posters say notified earth best august still selling without checking recalling earth best little guy taking business elsewhere sad organic company selling baby food plastic bpa jars gotta better get business',\n",
              "       'son favorite dinner best seems best combo protein vitamin runnier dinners great start solids protein love love love brand flavor think purchased jars far',\n",
              "       'know everyone else got broken received came wrapped plastic bubble wrap single jar broken son loves price great issues',\n",
              "       'would quality product thin nearly consistency soup makes much mess matter careful try',\n",
              "       'love earth best organic baby food tastiest one tried think pretty gross daughter still eats much enthusiasm flavors got decent amount protein important us vegetarian family',\n",
              "       'soft smooth texture little one devours one one best meat veg dinners found',\n",
              "       'triplets eat eventhe one eat anything consistency way runny well stay spoon',\n",
              "       'baby loves sweet potatoes essentially mix food sweet potatoes eat case could good bad thing depending wanted mix horribly runny like spooning formula mouth ick',\n",
              "       'food daughter eat consistly really enjoys packaging great never broken',\n",
              "       'son loves rice lentil jars liquid consistency peas brown rice jars order subscribe save amazon mom always arrives nicely packaged',\n",
              "       'twin girls loved vegetable turkey dinner one favorite baby foods great price',\n",
              "       'son really enjoys earth best lentil eats entire jar dinner always wants product shipped quickly',\n",
              "       'received dinner variety pack tried first time today always try baby foods make sure right temperature taste ok tasted made face yucky added sweet potatoes dash cinnamon credit daughter ate bites nearly enthusiastically flavors like mixture organic vegetables beans protein',\n",
              "       'love fact turkey offered son nd favorite dish issues good balance nutrients',\n",
              "       'three jars came form edible babies rest filled clump spongy mush would mix water also brown color yellowish brown like jars good mixture pretty disappointing waste money',\n",
              "       'one son favorite baby foods bit sweetness sweet runny flavors use deeper spoon one add little rice cereal thicken',\n",
              "       'whatever reason son really likes flavor fan one eating time get variety vegetables baby one sitting happy mom',\n",
              "       'rice lentil dinner son absolute favorite know gobbles every time enjoys earth best foods found couple eat personal taste issue brand particular combination varieties tend runny one great consistency right jar',\n",
              "       'always try food feed daughter one actually pretty good daughter loves gets excited make',\n",
              "       'little baby picky eat sometimes one watery others keep mind reviewing baby food objective since children different hope letting know consistency texture help',\n",
              "       'tastes good apparently cat thinks constantly poking furry face around every time pop open one absolutely nothing bad say know people complained poor packaging believe must fixed problems fact securely bubble wrap place air cushioned box arrives perfectly every time',\n",
              "       'month olds time write great review like flavors textures great jars open easily great go snack',\n",
              "       'baby loves rice lentil one favorite things eat going somewhere able warm food eat one cold',\n",
              "       'daughter loved stuff natural made well good mix things get older beats gerber',\n",
              "       'daughter outgrowing baby food still eat tried rd foods like texture really good likes keep buying',\n",
              "       'son loves best earth baby food favorite seems vegetable turkey smiles every mouthful would recommend product anyone looking healthy feeding organic way food feed son earth best',\n",
              "       'fair one twins got gas horrible night screaming gas pains garbanzo beans ideal food young babies',\n",
              "       'six month old baby loves earth best nd sweet potato chicken dinner favorite seems love earth best nd foods fruits vegetables dinners consistency food makes easy eat thick thin',\n",
              "       'earths best eats one little thicker original chicken sweet potato favorite runny',\n",
              "       'would continue buy moving home made finger foods away glass jars shattered many like flavors though great textures',\n",
              "       'wanted post found small bits plastic food feeding month old plastic food baby food please careful buy considering daughter loves food actually favorite first time noticed plastic months',\n",
              "       'pretty good product taste best definitely worse either gives pretty smooth energetic kick',\n",
              "       'true seattle coffee addict never better coffee candy',\n",
              "       'sent basket father birthday said fruit fresh sweet happy healthy purchase',\n",
              "       'fruit gift really perfect gift everything fresh well packed tasty looking people received assured quite tasty tasting tried chocolate covered cherries ad surprised delicious thank needed something pinch came even earlier expected thank dharana san francisco',\n",
              "       'got girlfriend birthday fruit actually tasted fresh yummy love dark chocolate loved dark chocolate almonds next time give organic version product someone close share',\n",
              "       'child facorite memory drinking sassafras tea made fresh sassafras granddad never seen tea bag found get taste remember needed bags per cup bags rather fragile really great product buy plus shipping time great',\n",
              "       'grew ohio lived woods sassafrass trees plentiful would dig tender roots bark trees delightful tea purchased breezy morning sassafrass tea although quite good expensive average size tea bags shipping much product good bargain switched pappy extract',\n",
              "       'ordered line received days tea excellent price right',\n",
              "       'purchased tea neighbor present looking sassafras tea long time realize hard find absolutely loves made great surprise christmas gift',\n",
              "       'heard great things sassafras wanted try worried taste turned lot better anticipated actually gonna order pack continue drinking time trust fda',\n",
              "       'bought dad years would complain tea since finally many nights drinking tea annoyed bought tea would shut',\n",
              "       'great tasting tea looking good sassafras tea forever finally ordering product thanks kim',\n",
              "       'care product thought tea sisters use drink elementary school found tea use drink actually came root particular type tree',\n",
              "       'purchased read natural cure hives um nothing hives tastes awful luckily co worker mine loves stuff gave yucky yucky stuff',\n",
              "       'love panang curry would rather avoid white rice restaurants serve decided try making product get exactly want hot tasty panang curry adding lots fresh veggies tofu brown rice hot add spices great product purchase',\n",
              "       'purchased friend loves cook find paid times cans highway robbery know purchase one around far item brand panang paste excellent beef panang dish friend made using paste good ones thai restaurant would recommend paste price',\n",
              "       'gravy mix excellent except use water called use milk instead makes better',\n",
              "       'nothing easier nothing better even beats grandmother white gravy recipe already peppered nothing mix water takes minute two highly recommend gravy mix disappoint',\n",
              "       'used pioneer gravy number years easy make tastes great also goes well mashed potatoes meats etc try',\n",
              "       'great able get sugar way good eat going use sugar least processed unhealthy state top sugar body helping fair trade farmers good thing around happy get amazon',\n",
              "       'keep regular bags decaf bags home times never drink old coffee best way make iced coffee',\n",
              "       'live dorms without kitchen making cup coffee really easy especially need stay late study wake hours sleep like making tea tastes decent enough starbucks good enough sugar cream',\n",
              "       'great work pop instant bag minute make coffee best tasting coffee easy make without mess',\n",
              "       'fast easy definitely delicious makes great cup coffee easy make good purchase continue order thanx',\n",
              "       'gave tea try add variety tea habit glad somewhat sweet almost minty taste wonderful aroma nice reddish color tea probably taste factor wonderful japanese green matcha tea look forward experiencing purported health benefits rooibos read',\n",
              "       'tried normal red tea waited review flavor still rings head earthier rooibos tea less frity color muddy water grittiness viscosity well well worth every penny',\n",
              "       'best marinade buy far concerned course everyone tastes think anyone like give five stars',\n",
              "       'great product looking msg gluten free product also lower sodium marinade soy sauce compromise taste either use soy sauce substitute found superior taste looks acts like good marinade celiac gluten intolerant even watching salt intake product way steak marinade',\n",
              "       'poland spring driver gave us new tea try andour family really enjoyed looked ingredients quite pleasedwith natural ingredients calories',\n",
              "       'hot sauce one favorites perfect balance tasty spicy smell flavors immediately open bottle mix garlic habanero spices put everything tend go one bottle week highly recommend anyone likes hot sauce',\n",
              "       'favorite hot sauce liketo use give anything extra flavor loved going favorite resturants town seeing offering great product really enjoy putting breakfast burritos',\n",
              "       'local diner eat regularly use kinds foods love hot without flavor like sauces burn taste burn awesome flavor surprised find amazon would highly recommend anyone likes good hot sauce',\n",
              "       'browsing around amazon looking gifts pleased see favorite sauce order shipped friends habanero favorite love heat tangy spiciness also love pineapple go wrong ordering',\n",
              "       'favorite hot sauce buy locally love flavor hopefully flavors show amazon people enjoy favorites medium pineapple flavored ones far thank making flavorful hot sauce',\n",
              "       'far habanero medium sauces amazing fiance use nearly daily picked goes really well sorts dishes add extra kick sauce lasts lot longer appears thick bottle last us couple weeks heavy use love use breakfast eggs burritos dinners soups added spice',\n",
              "       'absolutely love habenaro sauce use eggs sandwiches anything good kick watched progessing popularity theis homegrown product nothing highes accolades chef product get try',\n",
              "       'man say salsa bomb different kinds almost every meal owner cool dude dropped free bottles mailbox stole first bottle friends fridge tasted hooked since dont sleep hot sauce',\n",
              "       'sauce good anything like adding asian food anything egg noodles good burn strong flavor im hoping see flavors like pineapple experiment soon buy wont regret',\n",
              "       'hot like low star reviewer got suckered seeing habenero name oz size people might like flavor citrus fish sauce mix looking hot',\n",
              "       'admit sucker large quantity oz shopping hot sauces seeing size bottle reminds wing sauce bottle sizes plastic bottle convenient squirt top overall hot tasty made mostly jalape os seen ingredients list would bought jalapenoswatervinegarbrown sugarlime juicefish saucecilantrohabanerogarlicspice blendsaltpotassium sorbatexanthan gum'],\n",
              "      dtype=object)"
            ]
          },
          "execution_count": 22,
          "metadata": {},
          "output_type": "execute_result"
        }
      ],
      "source": [
        "np.array(df['text'])"
      ]
    },
    {
      "cell_type": "code",
      "execution_count": null,
      "metadata": {
        "id": "C8Qqukt49IZx"
      },
      "outputs": [],
      "source": [
        "from sklearn.model_selection import train_test_split\n",
        "x_tr,x_val,y_tr,y_val=train_test_split(np.array(df['text']),np.array(df['summary']),test_size=0.1,random_state=0,shuffle=True)"
      ]
    },
    {
      "cell_type": "markdown",
      "metadata": {
        "id": "BH-CyF-J9Ly8"
      },
      "source": [
        "# Tokenizer"
      ]
    },
    {
      "cell_type": "code",
      "execution_count": null,
      "metadata": {
        "id": "gj9smVW99J9P"
      },
      "outputs": [],
      "source": [
        "from keras.preprocessing.text import Tokenizer\n",
        "from keras.preprocessing.sequence import pad_sequences\n",
        "\n",
        "#prepare a tokenizer for reviews on training data\n",
        "x_tokenizer = Tokenizer()\n",
        "x_tokenizer.fit_on_texts(list(x_tr))"
      ]
    },
    {
      "cell_type": "code",
      "execution_count": null,
      "metadata": {
        "colab": {
          "base_uri": "https://localhost:8080/"
        },
        "id": "W8Ftzq-B9LE1",
        "outputId": "3fe218be-5a77-4d62-d074-5a10af72f845"
      },
      "outputs": [
        {
          "name": "stdout",
          "output_type": "stream",
          "text": [
            "% of rare words in vocabulary: 75.83280955373979\n",
            "Total Coverage of rare words: 24.602309871431686\n"
          ]
        }
      ],
      "source": [
        "thresh=4\n",
        "\n",
        "cnt=0\n",
        "tot_cnt=0\n",
        "freq=0\n",
        "tot_freq=0\n",
        "\n",
        "for key,value in x_tokenizer.word_counts.items():\n",
        "    tot_cnt=tot_cnt+1\n",
        "    tot_freq=tot_freq+value\n",
        "    if(value<thresh):\n",
        "        cnt=cnt+1\n",
        "        freq=freq+value\n",
        "\n",
        "print(\"% of rare words in vocabulary:\",(cnt/tot_cnt)*100)\n",
        "print(\"Total Coverage of rare words:\",(freq/tot_freq)*100)"
      ]
    },
    {
      "cell_type": "code",
      "execution_count": null,
      "metadata": {
        "id": "BCWz9bwB9OGy"
      },
      "outputs": [],
      "source": [
        "#prepare a tokenizer for reviews on training data\n",
        "x_tokenizer = Tokenizer(num_words=tot_cnt,oov_token=1)\n",
        "x_tokenizer.fit_on_texts(list(x_tr))\n",
        "\n",
        "#convert text sequences into integer sequences\n",
        "x_tr_seq    =   x_tokenizer.texts_to_sequences(x_tr)\n",
        "x_val_seq   =   x_tokenizer.texts_to_sequences(x_val)\n",
        "\n",
        "#padding zero upto maximum length\n",
        "x_tr    =   pad_sequences(x_tr_seq,  maxlen=max_text_len, padding='post')\n",
        "x_val   =   pad_sequences(x_val_seq, maxlen=max_text_len, padding='post')\n",
        "\n",
        "#size of vocabulary ( +1 for padding token)\n",
        "x_voc   =  x_tokenizer.num_words + 1"
      ]
    },
    {
      "cell_type": "code",
      "execution_count": null,
      "metadata": {
        "colab": {
          "base_uri": "https://localhost:8080/"
        },
        "id": "VsBt6atR9P6R",
        "outputId": "5d0a115a-8603-4a4f-df13-b464a4578590"
      },
      "outputs": [
        {
          "data": {
            "text/plain": [
              "3183"
            ]
          },
          "execution_count": 27,
          "metadata": {},
          "output_type": "execute_result"
        }
      ],
      "source": [
        "x_voc"
      ]
    },
    {
      "cell_type": "code",
      "execution_count": null,
      "metadata": {
        "id": "Qx0x498L9QzW"
      },
      "outputs": [],
      "source": [
        "#prepare a tokenizer for reviews on training data\n",
        "y_tokenizer = Tokenizer()\n",
        "y_tokenizer.fit_on_texts(list(y_tr))"
      ]
    },
    {
      "cell_type": "code",
      "execution_count": null,
      "metadata": {
        "colab": {
          "base_uri": "https://localhost:8080/"
        },
        "id": "IsDe_LcU9RsK",
        "outputId": "5bdc82cd-48e6-42d1-ddb4-a42e5193d4d6"
      },
      "outputs": [
        {
          "name": "stdout",
          "output_type": "stream",
          "text": [
            "% of rare words in vocabulary: 90.86161879895562\n",
            "Total Coverage of rare words: 29.693593314763234\n"
          ]
        }
      ],
      "source": [
        "thresh=6\n",
        "\n",
        "cnt=0\n",
        "tot_cnt=0\n",
        "freq=0\n",
        "tot_freq=0\n",
        "\n",
        "for key,value in y_tokenizer.word_counts.items():\n",
        "    tot_cnt=tot_cnt+1\n",
        "    tot_freq=tot_freq+value\n",
        "    if(value<thresh):\n",
        "        cnt=cnt+1\n",
        "        freq=freq+value\n",
        "\n",
        "print(\"% of rare words in vocabulary:\",(cnt/tot_cnt)*100)\n",
        "print(\"Total Coverage of rare words:\",(freq/tot_freq)*100)"
      ]
    },
    {
      "cell_type": "code",
      "execution_count": null,
      "metadata": {
        "id": "9RMqtGNw9SiY"
      },
      "outputs": [],
      "source": [
        "#prepare a tokenizer for reviews on training data\n",
        "y_tokenizer = Tokenizer(num_words=tot_cnt,oov_token=1)\n",
        "y_tokenizer.fit_on_texts(list(y_tr))\n",
        "\n",
        "#convert text sequences into integer sequences\n",
        "y_tr_seq    =   y_tokenizer.texts_to_sequences(y_tr)\n",
        "y_val_seq   =   y_tokenizer.texts_to_sequences(y_val)\n",
        "\n",
        "#padding zero upto maximum length\n",
        "y_tr    =   pad_sequences(y_tr_seq, maxlen=max_summary_len, padding='post')\n",
        "y_val   =   pad_sequences(y_val_seq, maxlen=max_summary_len, padding='post')\n",
        "\n",
        "#size of vocabulary\n",
        "y_voc  =   y_tokenizer.num_words +1"
      ]
    },
    {
      "cell_type": "code",
      "execution_count": null,
      "metadata": {
        "colab": {
          "base_uri": "https://localhost:8080/"
        },
        "id": "Vc5S-S0E9TlD",
        "outputId": "04ed0416-e8ea-4aae-8161-0bdf0a648121"
      },
      "outputs": [
        {
          "data": {
            "text/plain": [
              "(655, 655)"
            ]
          },
          "execution_count": 31,
          "metadata": {},
          "output_type": "execute_result"
        }
      ],
      "source": [
        "y_tokenizer.word_counts['sostok'],len(y_tr)"
      ]
    },
    {
      "cell_type": "markdown",
      "metadata": {
        "id": "qoY4F1Hj9V_Y"
      },
      "source": [
        "Deleting the rows that contain only **START** and **END** tokens"
      ]
    },
    {
      "cell_type": "code",
      "execution_count": null,
      "metadata": {
        "id": "9uC8XpCo9UkY"
      },
      "outputs": [],
      "source": [
        "ind=[]\n",
        "for i in range(len(y_tr)):\n",
        "    cnt=0\n",
        "    for j in y_tr[i]:\n",
        "        if j!=0:\n",
        "            cnt=cnt+1\n",
        "    if(cnt==2):\n",
        "        ind.append(i)\n",
        "\n",
        "y_tr=np.delete(y_tr,ind, axis=0)\n",
        "x_tr=np.delete(x_tr,ind, axis=0)"
      ]
    },
    {
      "cell_type": "code",
      "execution_count": null,
      "metadata": {
        "id": "6R_J4g3X9XVt"
      },
      "outputs": [],
      "source": [
        "ind=[]\n",
        "for i in range(len(y_val)):\n",
        "    cnt=0\n",
        "    for j in y_val[i]:\n",
        "        if j!=0:\n",
        "            cnt=cnt+1\n",
        "    if(cnt==2):\n",
        "        ind.append(i)\n",
        "\n",
        "y_val=np.delete(y_val,ind, axis=0)\n",
        "x_val=np.delete(x_val,ind, axis=0)"
      ]
    },
    {
      "cell_type": "markdown",
      "metadata": {
        "id": "rjcrECIZ9bYW"
      },
      "source": [
        "# Model building"
      ]
    },
    {
      "cell_type": "code",
      "execution_count": null,
      "metadata": {
        "colab": {
          "base_uri": "https://localhost:8080/"
        },
        "id": "CkK8s04E9Yrt",
        "outputId": "d5c7d35b-6364-4d47-acba-163634684d45"
      },
      "outputs": [
        {
          "name": "stdout",
          "output_type": "stream",
          "text": [
            "Model: \"model\"\n",
            "__________________________________________________________________________________________________\n",
            " Layer (type)                Output Shape                 Param #   Connected to                  \n",
            "==================================================================================================\n",
            " input_1 (InputLayer)        [(None, 40)]                 0         []                            \n",
            "                                                                                                  \n",
            " embedding (Embedding)       (None, 40, 100)              318300    ['input_1[0][0]']             \n",
            "                                                                                                  \n",
            " lstm (LSTM)                 [(None, 40, 300),            481200    ['embedding[0][0]']           \n",
            "                              (None, 300),                                                        \n",
            "                              (None, 300)]                                                        \n",
            "                                                                                                  \n",
            " input_2 (InputLayer)        [(None, None)]               0         []                            \n",
            "                                                                                                  \n",
            " lstm_1 (LSTM)               [(None, 40, 300),            721200    ['lstm[0][0]']                \n",
            "                              (None, 300),                                                        \n",
            "                              (None, 300)]                                                        \n",
            "                                                                                                  \n",
            " embedding_1 (Embedding)     (None, None, 100)            76700     ['input_2[0][0]']             \n",
            "                                                                                                  \n",
            " lstm_2 (LSTM)               [(None, 40, 300),            721200    ['lstm_1[0][0]']              \n",
            "                              (None, 300),                                                        \n",
            "                              (None, 300)]                                                        \n",
            "                                                                                                  \n",
            " lstm_3 (LSTM)               [(None, None, 300),          481200    ['embedding_1[0][0]',         \n",
            "                              (None, 300),                           'lstm_2[0][1]',              \n",
            "                              (None, 300)]                           'lstm_2[0][2]']              \n",
            "                                                                                                  \n",
            " concat_layer (Concatenate)  (None, None, 300)            0         ['lstm_3[0][0]']              \n",
            "                                                                                                  \n",
            " time_distributed (TimeDist  (None, None, 767)            230867    ['concat_layer[0][0]']        \n",
            " ributed)                                                                                         \n",
            "                                                                                                  \n",
            "==================================================================================================\n",
            "Total params: 3030667 (11.56 MB)\n",
            "Trainable params: 3030667 (11.56 MB)\n",
            "Non-trainable params: 0 (0.00 Byte)\n",
            "__________________________________________________________________________________________________\n"
          ]
        }
      ],
      "source": [
        "from keras import backend as K\n",
        "K.clear_session()\n",
        "\n",
        "latent_dim = 300\n",
        "embedding_dim=100\n",
        "\n",
        "# Encoder\n",
        "encoder_inputs = Input(shape=(max_text_len,))\n",
        "\n",
        "#embedding layer\n",
        "enc_emb =  Embedding(x_voc, embedding_dim,trainable=True)(encoder_inputs)\n",
        "\n",
        "#encoder lstm 1\n",
        "encoder_lstm1 = LSTM(latent_dim,return_sequences=True,return_state=True,dropout=0.4,recurrent_dropout=0.4)\n",
        "encoder_output1, state_h1, state_c1 = encoder_lstm1(enc_emb)\n",
        "\n",
        "#encoder lstm 2\n",
        "encoder_lstm2 = LSTM(latent_dim,return_sequences=True,return_state=True,dropout=0.4,recurrent_dropout=0.4)\n",
        "encoder_output2, state_h2, state_c2 = encoder_lstm2(encoder_output1)\n",
        "\n",
        "#encoder lstm 3\n",
        "encoder_lstm3=LSTM(latent_dim, return_state=True, return_sequences=True,dropout=0.4,recurrent_dropout=0.4)\n",
        "encoder_outputs, state_h, state_c= encoder_lstm3(encoder_output2)\n",
        "\n",
        "# Set up the decoder, using `encoder_states` as initial state.\n",
        "decoder_inputs = Input(shape=(None,))\n",
        "\n",
        "#embedding layer\n",
        "dec_emb_layer = Embedding(y_voc, embedding_dim,trainable=True)\n",
        "dec_emb = dec_emb_layer(decoder_inputs)\n",
        "\n",
        "decoder_lstm = LSTM(latent_dim, return_sequences=True, return_state=True,dropout=0.4,recurrent_dropout=0.2)\n",
        "decoder_outputs,decoder_fwd_state, decoder_back_state = decoder_lstm(dec_emb,initial_state=[state_h, state_c])\n",
        "\n",
        "\n",
        "\n",
        "# Concat attention input and decoder LSTM output\n",
        "decoder_concat_input = Concatenate(axis=-1, name='concat_layer')([decoder_outputs])\n",
        "\n",
        "#dense layer\n",
        "decoder_dense =  TimeDistributed(Dense(y_voc, activation='softmax'))\n",
        "decoder_outputs = decoder_dense(decoder_concat_input)\n",
        "\n",
        "# Define the model\n",
        "model = Model([encoder_inputs, decoder_inputs], decoder_outputs)\n",
        "\n",
        "model.summary()"
      ]
    },
    {
      "cell_type": "code",
      "execution_count": null,
      "metadata": {
        "id": "UngsQX3R9cxh"
      },
      "outputs": [],
      "source": [
        "model.compile(optimizer='rmsprop', loss='sparse_categorical_crossentropy')"
      ]
    },
    {
      "cell_type": "code",
      "execution_count": null,
      "metadata": {
        "id": "0zgdQq8H9kNt"
      },
      "outputs": [],
      "source": [
        "es = EarlyStopping(monitor='val_loss', mode='min', verbose=1,patience=2)"
      ]
    },
    {
      "cell_type": "code",
      "execution_count": null,
      "metadata": {
        "id": "8uu6jMU29lQ2"
      },
      "outputs": [],
      "source": []
    },
    {
      "cell_type": "code",
      "execution_count": null,
      "metadata": {
        "colab": {
          "base_uri": "https://localhost:8080/"
        },
        "id": "y4x5XY-L9mom",
        "outputId": "c0398f35-b17f-409f-8f6b-36b8cafc7e7e"
      },
      "outputs": [
        {
          "name": "stdout",
          "output_type": "stream",
          "text": [
            "Epoch 1/10\n",
            "6/6 [==============================] - 18s 2s/step - loss: 6.3465 - val_loss: 3.5069\n",
            "Epoch 2/10\n",
            "6/6 [==============================] - 9s 1s/step - loss: 3.2189 - val_loss: 2.8781\n",
            "Epoch 3/10\n",
            "6/6 [==============================] - 9s 1s/step - loss: 2.9451 - val_loss: 2.7869\n",
            "Epoch 4/10\n",
            "6/6 [==============================] - 8s 1s/step - loss: 2.8369 - val_loss: 2.7552\n",
            "Epoch 5/10\n",
            "6/6 [==============================] - 9s 1s/step - loss: 2.8004 - val_loss: 2.7523\n",
            "Epoch 6/10\n",
            "6/6 [==============================] - 9s 2s/step - loss: 2.8209 - val_loss: 2.7725\n",
            "Epoch 7/10\n",
            "6/6 [==============================] - 9s 1s/step - loss: 2.8091 - val_loss: 2.7530\n",
            "Epoch 7: early stopping\n"
          ]
        }
      ],
      "source": [
        "history=model.fit([x_tr,y_tr[:,:-1]], y_tr.reshape(y_tr.shape[0],y_tr.shape[1], 1)[:,1:] ,epochs=10, callbacks=[es],batch_size=128,\n",
        "                  validation_data=([x_val,y_val[:,:-1]], y_val.reshape(y_val.shape[0],y_val.shape[1], 1)[:,1:]))"
      ]
    },
    {
      "cell_type": "markdown",
      "metadata": {
        "id": "ZsGX64P99q1F"
      },
      "source": [
        "#Understanding the Diagnostic plot\n",
        "\n",
        "Now, we will plot a few diagnostic plots to understand the behavior of the model over time:"
      ]
    },
    {
      "cell_type": "code",
      "execution_count": null,
      "metadata": {
        "id": "vFutGofR9oWK"
      },
      "outputs": [],
      "source": [
        "model.save('checkpoint_model.h5')"
      ]
    },
    {
      "cell_type": "code",
      "execution_count": null,
      "metadata": {
        "colab": {
          "base_uri": "https://localhost:8080/",
          "height": 433
        },
        "id": "W3cY1b3x9tQq",
        "outputId": "c47e4f06-0cf0-428d-e4db-7e822000539b"
      },
      "outputs": [
        {
          "data": {
            "image/png": "[encoded data removed]",
            "text/plain": [
              "<Figure size 640x480 with 1 Axes>"
            ]
          },
          "metadata": {},
          "output_type": "display_data"
        }
      ],
      "source": [
        "from matplotlib import pyplot\n",
        "pyplot.plot(history.history['loss'], label='train')\n",
        "pyplot.plot(history.history['val_loss'], label='test')\n",
        "pyplot.legend()\n",
        "pyplot.show()"
      ]
    },
    {
      "cell_type": "markdown",
      "metadata": {
        "id": "UCTaDULv9wZB"
      },
      "source": [
        "From the plot, we can infer that validation loss has increased after epoch 17 for 2 successive epochs. Hence, training is stopped at epoch 19.\n",
        "\n",
        "Next, let’s build the dictionary to convert the index to word for target and source vocabulary:"
      ]
    },
    {
      "cell_type": "code",
      "execution_count": null,
      "metadata": {
        "id": "NXCLXkvN9uye"
      },
      "outputs": [],
      "source": [
        "reverse_target_word_index=y_tokenizer.index_word\n",
        "reverse_source_word_index=x_tokenizer.index_word\n",
        "target_word_index=y_tokenizer.word_index"
      ]
    },
    {
      "cell_type": "markdown",
      "metadata": {
        "id": "RDWeQFSK9zAc"
      },
      "source": [
        "# Inference\n",
        "\n",
        "Set up the inference for the encoder and decoder:"
      ]
    },
    {
      "cell_type": "code",
      "execution_count": null,
      "metadata": {
        "id": "_LjoEkHh9xcB"
      },
      "outputs": [],
      "source": [
        "# Encode the input sequence to get the feature vector\n",
        "encoder_model = Model(inputs=encoder_inputs,outputs=[encoder_outputs, state_h, state_c])\n",
        "\n",
        "# Decoder setup\n",
        "# Below tensors will hold the states of the previous time step\n",
        "decoder_state_input_h = Input(shape=(latent_dim,))\n",
        "decoder_state_input_c = Input(shape=(latent_dim,))\n",
        "decoder_hidden_state_input = Input(shape=(max_text_len,latent_dim))\n",
        "\n",
        "# Get the embeddings of the decoder sequence\n",
        "dec_emb2= dec_emb_layer(decoder_inputs)\n",
        "# To predict the next word in the sequence, set the initial states to the states from the previous time step\n",
        "decoder_outputs2, state_h2, state_c2 = decoder_lstm(dec_emb2, initial_state=[decoder_state_input_h, decoder_state_input_c])\n",
        "\n",
        "# #attention inference\n",
        "# attn_out_inf, attn_states_inf = attn_layer([decoder_hidden_state_input, decoder_outputs2])\n",
        "decoder_inf_concat = Concatenate(axis=-1, name='concat')([decoder_outputs2])\n",
        "\n",
        "# A dense softmax layer to generate prob dist. over the target vocabulary\n",
        "decoder_outputs2 = decoder_dense(decoder_inf_concat)\n",
        "\n",
        "# Final decoder model\n",
        "decoder_model = Model(\n",
        "    [decoder_inputs] + [decoder_hidden_state_input,decoder_state_input_h, decoder_state_input_c],\n",
        "    [decoder_outputs2] + [state_h2, state_c2])"
      ]
    },
    {
      "cell_type": "markdown",
      "metadata": {
        "id": "9CJQxAT5915M"
      },
      "source": [
        "We are defining a function below which is the implementation of the inference process (which we covered [here](https://www.analyticsvidhya.com/blog/2019/06/comprehensive-guide-text-summarization-using-deep-learning-python/)):"
      ]
    },
    {
      "cell_type": "code",
      "execution_count": null,
      "metadata": {
        "id": "u1M0jyCL90bP"
      },
      "outputs": [],
      "source": [
        "def decode_sequence(input_seq):\n",
        "    # Encode the input as state vectors.\n",
        "    e_out, e_h, e_c = encoder_model.predict(input_seq)\n",
        "\n",
        "    # Generate empty target sequence of length 1.\n",
        "    target_seq = np.zeros((1,1))\n",
        "\n",
        "    # Populate the first word of target sequence with the start word.\n",
        "    target_seq[0, 0] = target_word_index['sostok']\n",
        "\n",
        "    stop_condition = False\n",
        "    decoded_sentence = ''\n",
        "    while not stop_condition:\n",
        "\n",
        "        output_tokens, h, c = decoder_model.predict([target_seq] + [e_out, e_h, e_c])\n",
        "\n",
        "        # Sample a token\n",
        "        sampled_token_index = np.argmax(output_tokens[0, -1, :])\n",
        "        sampled_token = reverse_target_word_index[sampled_token_index]\n",
        "\n",
        "        if(sampled_token!='eostok'):\n",
        "            decoded_sentence += ' '+sampled_token\n",
        "\n",
        "        # Exit condition: either hit max length or find stop word.\n",
        "        if (sampled_token == 'eostok'  or len(decoded_sentence.split()) >= (max_summary_len-1)):\n",
        "            stop_condition = True\n",
        "\n",
        "        # Update the target sequence (of length 1).\n",
        "        target_seq = np.zeros((1,1))\n",
        "        target_seq[0, 0] = sampled_token_index\n",
        "\n",
        "        # Update internal states\n",
        "        e_h, e_c = h, c\n",
        "\n",
        "    return decoded_sentence"
      ]
    },
    {
      "cell_type": "markdown",
      "metadata": {
        "id": "nWQ-qFDD96lN"
      },
      "source": [
        "Let us define the functions to convert an integer sequence to a word sequence for summary as well as the reviews:"
      ]
    },
    {
      "cell_type": "code",
      "execution_count": null,
      "metadata": {
        "id": "WCGLDpvD924f"
      },
      "outputs": [],
      "source": [
        "def seq2summary(input_seq):\n",
        "    newString=''\n",
        "    for i in input_seq:\n",
        "        try:\n",
        "            if((i!=0 and i!=target_word_index['sostok']) and i!=target_word_index['eostok']):\n",
        "                newString=newString+reverse_target_word_index[i]+' '\n",
        "        except(TypeError):\n",
        "            newString=newString+'<unk> '\n",
        "            continue\n",
        "    return newString\n",
        "\n",
        "def seq2text(input_seq):\n",
        "    newString=''\n",
        "    for i in input_seq:\n",
        "        try:\n",
        "            if(i!=0):\n",
        "                newString=newString+reverse_source_word_index[i]+' '\n",
        "        except(TypeError):\n",
        "            newString=newString+'<unk> '\n",
        "            continue\n",
        "    return newString"
      ]
    },
    {
      "cell_type": "markdown",
      "metadata": {
        "id": "bejBANkC9-3h"
      },
      "source": [
        "Here are a few summaries generated by the model:"
      ]
    },
    {
      "cell_type": "code",
      "execution_count": null,
      "metadata": {
        "colab": {
          "base_uri": "https://localhost:8080/"
        },
        "id": "TOyZ4Bt-9450",
        "outputId": "73d0afa0-545a-479a-ad12-0758987836ed"
      },
      "outputs": [
        {
          "name": "stdout",
          "output_type": "stream",
          "text": [
            "Review: disappointed product thought would bigger also come enough icing use \n",
            "Original summary: <unk> \n",
            "1/1 [==============================] - 1s 505ms/step\n",
            "1/1 [==============================] - 0s 181ms/step\n",
            "1/1 [==============================] - 0s 17ms/step\n",
            "Predicted summary:  great\n",
            "\n",
            "\n",
            "Review: first think chips spicy spice <unk> bite really good \n",
            "Original summary: the <unk> will <unk> \n",
            "1/1 [==============================] - 0s 65ms/step\n",
            "1/1 [==============================] - 0s 18ms/step\n",
            "1/1 [==============================] - 0s 17ms/step\n",
            "Predicted summary:  great\n",
            "\n",
            "\n",
            "Review: bought chocolate liquor cups party big hit high quality good buy \n",
            "Original summary: delicious \n",
            "1/1 [==============================] - 0s 69ms/step\n",
            "1/1 [==============================] - 0s 18ms/step\n",
            "1/1 [==============================] - 0s 18ms/step\n",
            "Predicted summary:  great\n",
            "\n",
            "\n",
            "Review: fantastic tasting potato chips love individual bags great kids <unk> trans fat cholesterol <unk> stuff low sodium high <unk> great people like <unk> problem amazon stock times price high \n",
            "Original summary: best chips have ever tasted \n",
            "1/1 [==============================] - 0s 82ms/step\n",
            "1/1 [==============================] - 0s 19ms/step\n",
            "1/1 [==============================] - 0s 18ms/step\n",
            "Predicted summary:  great\n",
            "\n",
            "\n",
            "Review: think plocky brand whole cut quality found lack taste somewhat little greasy \n",
            "Original summary: plocky sweet <unk> chipotle whole grain <unk> \n",
            "1/1 [==============================] - 0s 67ms/step\n",
            "1/1 [==============================] - 0s 17ms/step\n",
            "1/1 [==============================] - 0s 17ms/step\n",
            "Predicted summary:  great\n",
            "\n",
            "\n",
            "Review: use <unk> like asian dishes least week love product fast shipping usual would buy \n",
            "Original summary: <unk> sauce \n",
            "1/1 [==============================] - 0s 64ms/step\n",
            "1/1 [==============================] - 0s 16ms/step\n",
            "1/1 [==============================] - 0s 17ms/step\n",
            "Predicted summary:  great\n",
            "\n",
            "\n",
            "Review: bought chips little sandwich shop <unk> vacation sure expect package first bite know think flavors hit yum bit spicy nothing overpowering lots crunchy sweet spicy goodness sold <unk> though still trying find somewhere close live \n",
            "Original summary: love these chips \n",
            "1/1 [==============================] - 0s 68ms/step\n",
            "1/1 [==============================] - 0s 19ms/step\n",
            "1/1 [==============================] - 0s 17ms/step\n",
            "Predicted summary:  great\n",
            "\n",
            "\n",
            "Review: got free package bottle bloody mary mix bought seller advertising worked lol tried shared <unk> loved <unk> buy noticed reviews yet well hot burn mouth forever hot nice <unk> perfect us \n",
            "Original summary: hot and good came <unk> for more \n",
            "1/1 [==============================] - 0s 68ms/step\n",
            "1/1 [==============================] - 0s 17ms/step\n",
            "1/1 [==============================] - 0s 18ms/step\n",
            "Predicted summary:  great\n",
            "\n",
            "\n",
            "Review: ordered <unk> <unk> daughter almost every morning likes flavors happy happy mccann instant <unk> oatmeal variety pack regular apples cinnamon maple brown sugar count boxes \n",
            "Original summary: <unk> favorite breakfast \n",
            "1/1 [==============================] - 0s 69ms/step\n",
            "1/1 [==============================] - 0s 17ms/step\n",
            "1/1 [==============================] - 0s 19ms/step\n",
            "Predicted summary:  great\n",
            "\n",
            "\n",
            "Review: love eating good watching <unk> looking <unk> sweet like <unk> zip lock <unk> stay fresh take time eating \n",
            "Original summary: poor taste \n",
            "1/1 [==============================] - 0s 67ms/step\n",
            "1/1 [==============================] - 0s 19ms/step\n",
            "1/1 [==============================] - 0s 18ms/step\n",
            "Predicted summary:  great\n",
            "\n",
            "\n"
          ]
        }
      ],
      "source": [
        "for i in range(10):\n",
        "#    try:\n",
        "    print(\"Review:\",seq2text(x_val[i]))\n",
        "    print(\"Original summary:\",seq2summary(y_val[i]))\n",
        "    print(\"Predicted summary:\",decode_sequence(x_val[i].reshape(1,max_text_len)))\n",
        "    print(\"\\n\")\n",
        "#    except:\n",
        "#        continue"
      ]
    },
    {
      "cell_type": "markdown",
      "metadata": {
        "id": "eZGzElY7-JvF"
      },
      "source": [
        "#TESTING\n",
        "Let's try out on some reviews. We can either pass some review as input or use a text file too. Here let us try out with user input."
      ]
    },
    {
      "cell_type": "code",
      "execution_count": null,
      "metadata": {
        "colab": {
          "base_uri": "https://localhost:8080/",
          "height": 127
        },
        "id": "wrRaD1Yf-ANL",
        "outputId": "352d7711-2f0d-4777-ef83-b57f56690fcb"
      },
      "outputs": [
        {
          "name": "stdout",
          "output_type": "stream",
          "text": [
            "Good Quality Dog Food,I have bought several of the Vitality canned dog food products and have found them all to be of good quality. The product looks more like a stew than a processed meat and it smells better. My Labrador is finicky and she appreciates this product better than  most.\n",
            "1/1 [==============================] - 0s 112ms/step\n",
            "1/1 [==============================] - 0s 24ms/step\n",
            "1/1 [==============================] - 0s 25ms/step\n"
          ]
        },
        {
          "data": {
            "application/vnd.google.colaboratory.intrinsic+json": {
              "type": "string"
            },
            "text/plain": [
              "' great'"
            ]
          },
          "execution_count": 50,
          "metadata": {},
          "output_type": "execute_result"
        }
      ],
      "source": [
        "sentence=input()\n",
        "sentence=text_cleaner(sentence,0)\n",
        "c=1\n",
        "seq=list()\n",
        "sp=list()\n",
        "for i in sentence.split():\n",
        "    try:\n",
        "        seq.append(x_tokenizer.word_index[i])\n",
        "        c+=1\n",
        "    except:\n",
        "        seq.append(x_tokenizer.word_index[1])\n",
        "sp.append(seq)\n",
        "sq=pad_sequences(sp,maxlen=max_text_len,padding='post')\n",
        "decode_sequence(sq.reshape(1,max_text_len))"
      ]
    },
    {
      "cell_type": "code",
      "execution_count": null,
      "metadata": {
        "colab": {
          "base_uri": "https://localhost:8080/"
        },
        "id": "i0DgJ047-BsV",
        "outputId": "7209ace0-a5ca-4b0d-a66c-c932ae3401e3"
      },
      "outputs": [
        {
          "data": {
            "text/plain": [
              "array([  2,   5,   1, 139,   1,   3,   0,   0,   0,   0], dtype=int32)"
            ]
          },
          "execution_count": 51,
          "metadata": {},
          "output_type": "execute_result"
        }
      ],
      "source": [
        "y_val[1]"
      ]
    }
  ],
  "metadata": {
    "colab": {
      "provenance": []
    },
    "kernelspec": {
      "display_name": "Python 3",
      "name": "python3"
    }
  },
  "nbformat": 4,
  "nbformat_minor": 0
}
